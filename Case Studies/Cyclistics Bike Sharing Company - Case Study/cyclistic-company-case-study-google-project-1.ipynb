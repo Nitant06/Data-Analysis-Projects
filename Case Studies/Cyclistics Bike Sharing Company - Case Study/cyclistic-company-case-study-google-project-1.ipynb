{
 "cells": [
  {
   "cell_type": "markdown",
   "id": "6df5a4d1",
   "metadata": {
    "_cell_guid": "165f4a85-17f7-4f8b-a66e-5c96c7e44f7f",
    "_uuid": "5ddcbf94-36eb-46aa-83b7-987364152f47",
    "papermill": {
     "duration": 0.026171,
     "end_time": "2021-10-05T12:28:06.865184",
     "exception": false,
     "start_time": "2021-10-05T12:28:06.839013",
     "status": "completed"
    },
    "tags": []
   },
   "source": [
    "---\n",
    "title: \"Cyclistic Company - Case Study\"\n",
    "author: \"Nitant Sharma\"\n",
    "date: \"7/23/2021\"\n",
    "---"
   ]
  },
  {
   "cell_type": "markdown",
   "id": "5c9d1a4a",
   "metadata": {
    "_cell_guid": "7e379069-50eb-47b6-99f0-779237cee804",
    "_uuid": "2d226eb2-ca73-4bbe-b1b0-bb41d16fef34",
    "papermill": {
     "duration": 0.021253,
     "end_time": "2021-10-05T12:28:06.907993",
     "exception": false,
     "start_time": "2021-10-05T12:28:06.886740",
     "status": "completed"
    },
    "tags": []
   },
   "source": [
    "## Introduction\n",
    "\n",
    "Cyclistic is a bike-share company in Chicago.The director of marketing believes the company’s future success depends on maximizing the number of annual memberships.\n",
    "\n",
    "Therefore, the team wants to understand how casual riders and annual members use Cyclistic bikes differently. From these insights, the team will design a new marketing strategy to convert casual riders into annual members. But first, Cyclistic executives must approve the recommendations, so they must be backed up with compelling data insights and professional data visualizations."
   ]
  },
  {
   "cell_type": "markdown",
   "id": "308fc31c",
   "metadata": {
    "_cell_guid": "c54cec4d-c3c5-41fa-92ee-b7e1e0afc320",
    "_uuid": "660c7df1-d3a2-4e2b-a941-d60bc541bd20",
    "papermill": {
     "duration": 0.021598,
     "end_time": "2021-10-05T12:28:06.951016",
     "exception": false,
     "start_time": "2021-10-05T12:28:06.929418",
     "status": "completed"
    },
    "tags": []
   },
   "source": [
    "## Business Task \n",
    "\n",
    "To analyze user behaviours on how annual members and casual riders use Cyclistic bikes differently to make recommendations on how to convert casual riders into annual members."
   ]
  },
  {
   "cell_type": "markdown",
   "id": "f4c90eaf",
   "metadata": {
    "_cell_guid": "d5c83f54-eab6-41de-833d-6711854e6030",
    "_uuid": "19504264-7a9a-443e-bedf-993959eae5ab",
    "papermill": {
     "duration": 0.021213,
     "end_time": "2021-10-05T12:28:06.993540",
     "exception": false,
     "start_time": "2021-10-05T12:28:06.972327",
     "status": "completed"
    },
    "tags": []
   },
   "source": [
    "## Data Set Collection and limitation \n",
    "\n",
    "* The dataset used by me is the 1 month dataset from 202104-divvy-tripdata.zip taken from <https://divvy-tripdata.s3.amazonaws.com/index.html> made publicly available by Motivate International Inc. \n",
    "\n",
    "* The dataset does not contains any information related to transactions done by the users due to data privacy issues because of which we won't be able to determine if casual riders live in the Cyclistic service area or if they have purchased multiple single passes."
   ]
  },
  {
   "cell_type": "markdown",
   "id": "7a7f78ec",
   "metadata": {
    "_cell_guid": "30544197-f101-4c7c-9ab5-84e95b4b149d",
    "_uuid": "be90571e-f751-481a-92c1-3958995265bb",
    "papermill": {
     "duration": 0.022004,
     "end_time": "2021-10-05T12:28:07.036835",
     "exception": false,
     "start_time": "2021-10-05T12:28:07.014831",
     "status": "completed"
    },
    "tags": []
   },
   "source": [
    "### Packages used\n",
    "\n",
    "* The packages which were used are tidyverse(),lubridate(),dplyr() and ggplot2().\n",
    "\n",
    "* The data set was loaded using following command"
   ]
  },
  {
   "cell_type": "code",
   "execution_count": 1,
   "id": "983ec00f",
   "metadata": {
    "execution": {
     "iopub.execute_input": "2021-10-05T12:28:07.087722Z",
     "iopub.status.busy": "2021-10-05T12:28:07.084748Z",
     "iopub.status.idle": "2021-10-05T12:28:08.672645Z",
     "shell.execute_reply": "2021-10-05T12:28:08.670824Z"
    },
    "papermill": {
     "duration": 1.613964,
     "end_time": "2021-10-05T12:28:08.672851",
     "exception": false,
     "start_time": "2021-10-05T12:28:07.058887",
     "status": "completed"
    },
    "tags": []
   },
   "outputs": [
    {
     "name": "stderr",
     "output_type": "stream",
     "text": [
      "── \u001b[1mAttaching packages\u001b[22m ─────────────────────────────────────── tidyverse 1.3.1 ──\n",
      "\n",
      "\u001b[32m✔\u001b[39m \u001b[34mggplot2\u001b[39m 3.3.4     \u001b[32m✔\u001b[39m \u001b[34mpurrr  \u001b[39m 0.3.4\n",
      "\u001b[32m✔\u001b[39m \u001b[34mtibble \u001b[39m 3.1.2     \u001b[32m✔\u001b[39m \u001b[34mdplyr  \u001b[39m 1.0.7\n",
      "\u001b[32m✔\u001b[39m \u001b[34mtidyr  \u001b[39m 1.1.3     \u001b[32m✔\u001b[39m \u001b[34mstringr\u001b[39m 1.4.0\n",
      "\u001b[32m✔\u001b[39m \u001b[34mreadr  \u001b[39m 1.4.0     \u001b[32m✔\u001b[39m \u001b[34mforcats\u001b[39m 0.5.1\n",
      "\n",
      "── \u001b[1mConflicts\u001b[22m ────────────────────────────────────────── tidyverse_conflicts() ──\n",
      "\u001b[31m✖\u001b[39m \u001b[34mdplyr\u001b[39m::\u001b[32mfilter()\u001b[39m masks \u001b[34mstats\u001b[39m::filter()\n",
      "\u001b[31m✖\u001b[39m \u001b[34mdplyr\u001b[39m::\u001b[32mlag()\u001b[39m    masks \u001b[34mstats\u001b[39m::lag()\n",
      "\n",
      "\n",
      "Attaching package: ‘lubridate’\n",
      "\n",
      "\n",
      "The following objects are masked from ‘package:base’:\n",
      "\n",
      "    date, intersect, setdiff, union\n",
      "\n",
      "\n",
      "\n",
      "Attaching package: ‘scales’\n",
      "\n",
      "\n",
      "The following object is masked from ‘package:purrr’:\n",
      "\n",
      "    discard\n",
      "\n",
      "\n",
      "The following object is masked from ‘package:readr’:\n",
      "\n",
      "    col_factor\n",
      "\n",
      "\n"
     ]
    }
   ],
   "source": [
    "library(tidyverse)\n",
    "library(lubridate)\n",
    "library(scales)"
   ]
  },
  {
   "cell_type": "code",
   "execution_count": 2,
   "id": "b0f7194a",
   "metadata": {
    "_cell_guid": "6341929d-deb8-4af3-b472-5fc799707537",
    "_uuid": "5f306147-3333-47b7-8090-1d9551232221",
    "collapsed": false,
    "execution": {
     "iopub.execute_input": "2021-10-05T12:28:08.763481Z",
     "iopub.status.busy": "2021-10-05T12:28:08.727655Z",
     "iopub.status.idle": "2021-10-05T12:28:16.632793Z",
     "shell.execute_reply": "2021-10-05T12:28:16.630991Z"
    },
    "jupyter": {
     "outputs_hidden": false
    },
    "papermill": {
     "duration": 7.935032,
     "end_time": "2021-10-05T12:28:16.633039",
     "exception": false,
     "start_time": "2021-10-05T12:28:08.698007",
     "status": "completed"
    },
    "tags": []
   },
   "outputs": [],
   "source": [
    "april_2021_trip_data = read.csv(\"../input/202104divvytripdata/202104-divvy-tripdata.csv\",sep=\",\")"
   ]
  },
  {
   "cell_type": "markdown",
   "id": "19583eb7",
   "metadata": {
    "_cell_guid": "342d679d-de9a-4145-b57a-1d2ae1e74a7f",
    "_uuid": "4f07a233-5094-44bc-b68c-0da50f5da42e",
    "papermill": {
     "duration": 0.023449,
     "end_time": "2021-10-05T12:28:16.681053",
     "exception": false,
     "start_time": "2021-10-05T12:28:16.657604",
     "status": "completed"
    },
    "tags": []
   },
   "source": [
    "## Data Processing\n",
    "\n",
    "* For processing the data we start by summarizing it by using the following command."
   ]
  },
  {
   "cell_type": "code",
   "execution_count": 3,
   "id": "cf53db6e",
   "metadata": {
    "_cell_guid": "5c33af02-2ff5-4086-814c-6c3741d7cfac",
    "_uuid": "c1bbc9ae-f7d1-45cf-8b46-86c9ae76ecaf",
    "collapsed": false,
    "execution": {
     "iopub.execute_input": "2021-10-05T12:28:16.734475Z",
     "iopub.status.busy": "2021-10-05T12:28:16.733051Z",
     "iopub.status.idle": "2021-10-05T12:28:16.965199Z",
     "shell.execute_reply": "2021-10-05T12:28:16.963095Z"
    },
    "jupyter": {
     "outputs_hidden": false
    },
    "papermill": {
     "duration": 0.260892,
     "end_time": "2021-10-05T12:28:16.965429",
     "exception": false,
     "start_time": "2021-10-05T12:28:16.704537",
     "status": "completed"
    },
    "tags": []
   },
   "outputs": [
    {
     "data": {
      "text/plain": [
       "   ride_id          rideable_type       started_at          ended_at        \n",
       " Length:337230      Length:337230      Length:337230      Length:337230     \n",
       " Class :character   Class :character   Class :character   Class :character  \n",
       " Mode  :character   Mode  :character   Mode  :character   Mode  :character  \n",
       "                                                                            \n",
       "                                                                            \n",
       "                                                                            \n",
       "                                                                            \n",
       " start_station_name start_station_id   end_station_name   end_station_id    \n",
       " Length:337230      Length:337230      Length:337230      Length:337230     \n",
       " Class :character   Class :character   Class :character   Class :character  \n",
       " Mode  :character   Mode  :character   Mode  :character   Mode  :character  \n",
       "                                                                            \n",
       "                                                                            \n",
       "                                                                            \n",
       "                                                                            \n",
       "   start_lat       start_lng         end_lat         end_lng      \n",
       " Min.   :41.64   Min.   :-87.78   Min.   :41.59   Min.   :-87.85  \n",
       " 1st Qu.:41.88   1st Qu.:-87.66   1st Qu.:41.88   1st Qu.:-87.66  \n",
       " Median :41.90   Median :-87.64   Median :41.90   Median :-87.64  \n",
       " Mean   :41.90   Mean   :-87.64   Mean   :41.90   Mean   :-87.65  \n",
       " 3rd Qu.:41.93   3rd Qu.:-87.63   3rd Qu.:41.93   3rd Qu.:-87.63  \n",
       " Max.   :42.07   Max.   :-87.52   Max.   :42.15   Max.   :-87.52  \n",
       "                                  NA's   :267     NA's   :267     \n",
       " member_casual     \n",
       " Length:337230     \n",
       " Class :character  \n",
       " Mode  :character  \n",
       "                   \n",
       "                   \n",
       "                   \n",
       "                   "
      ]
     },
     "metadata": {},
     "output_type": "display_data"
    }
   ],
   "source": [
    "summary(april_2021_trip_data)"
   ]
  },
  {
   "cell_type": "markdown",
   "id": "11604438",
   "metadata": {
    "_cell_guid": "e0536c8d-d03f-44bc-a92b-88f7d1ba4813",
    "_uuid": "a1ca6071-da44-4f99-a752-fcbc48ada13e",
    "papermill": {
     "duration": 0.024928,
     "end_time": "2021-10-05T12:28:17.015462",
     "exception": false,
     "start_time": "2021-10-05T12:28:16.990534",
     "status": "completed"
    },
    "tags": []
   },
   "source": [
    "* Then we **clean** our data by performing operations such as checking the NA values and removing them and checking the pressence of any duplicate data inside our dataset by following commands"
   ]
  },
  {
   "cell_type": "code",
   "execution_count": 4,
   "id": "375e9f35",
   "metadata": {
    "_cell_guid": "0c89d01b-c397-452b-a09f-6bc7921cb486",
    "_uuid": "4081d49e-569c-4d0c-81db-4a183b37fbc8",
    "collapsed": false,
    "execution": {
     "iopub.execute_input": "2021-10-05T12:28:17.071587Z",
     "iopub.status.busy": "2021-10-05T12:28:17.069729Z",
     "iopub.status.idle": "2021-10-05T12:28:22.780048Z",
     "shell.execute_reply": "2021-10-05T12:28:22.778358Z"
    },
    "jupyter": {
     "outputs_hidden": false
    },
    "papermill": {
     "duration": 5.740092,
     "end_time": "2021-10-05T12:28:22.780243",
     "exception": false,
     "start_time": "2021-10-05T12:28:17.040151",
     "status": "completed"
    },
    "tags": []
   },
   "outputs": [
    {
     "data": {
      "text/plain": [
       "\n",
       "  FALSE    TRUE \n",
       "4383456     534 "
      ]
     },
     "metadata": {},
     "output_type": "display_data"
    }
   ],
   "source": [
    "table(is.na(april_2021_trip_data))"
   ]
  },
  {
   "cell_type": "code",
   "execution_count": 5,
   "id": "ec3d74e5",
   "metadata": {
    "_cell_guid": "f60029ca-7b05-499a-a6a4-7a28de288f57",
    "_uuid": "6d70e8f3-3e5f-4ee3-92b5-fa50f52f65ec",
    "execution": {
     "iopub.execute_input": "2021-10-05T12:28:22.838280Z",
     "iopub.status.busy": "2021-10-05T12:28:22.836602Z",
     "iopub.status.idle": "2021-10-05T12:28:23.121476Z",
     "shell.execute_reply": "2021-10-05T12:28:23.119994Z"
    },
    "papermill": {
     "duration": 0.31586,
     "end_time": "2021-10-05T12:28:23.121730",
     "exception": false,
     "start_time": "2021-10-05T12:28:22.805870",
     "status": "completed"
    },
    "tags": []
   },
   "outputs": [],
   "source": [
    "cleaned_data<-na.omit(april_2021_trip_data)"
   ]
  },
  {
   "cell_type": "code",
   "execution_count": 6,
   "id": "9e357e50",
   "metadata": {
    "execution": {
     "iopub.execute_input": "2021-10-05T12:28:23.179732Z",
     "iopub.status.busy": "2021-10-05T12:28:23.178108Z",
     "iopub.status.idle": "2021-10-05T12:28:27.258988Z",
     "shell.execute_reply": "2021-10-05T12:28:27.257337Z"
    },
    "papermill": {
     "duration": 4.111348,
     "end_time": "2021-10-05T12:28:27.259347",
     "exception": false,
     "start_time": "2021-10-05T12:28:23.147999",
     "status": "completed"
    },
    "tags": []
   },
   "outputs": [
    {
     "data": {
      "text/plain": [
       "\n",
       "  FALSE \n",
       "4380519 "
      ]
     },
     "metadata": {},
     "output_type": "display_data"
    }
   ],
   "source": [
    "table(is.na(cleaned_data))"
   ]
  },
  {
   "cell_type": "code",
   "execution_count": 7,
   "id": "b25513b0",
   "metadata": {
    "execution": {
     "iopub.execute_input": "2021-10-05T12:28:27.317161Z",
     "iopub.status.busy": "2021-10-05T12:28:27.315449Z",
     "iopub.status.idle": "2021-10-05T12:28:32.335006Z",
     "shell.execute_reply": "2021-10-05T12:28:32.332795Z"
    },
    "papermill": {
     "duration": 5.050287,
     "end_time": "2021-10-05T12:28:32.335239",
     "exception": false,
     "start_time": "2021-10-05T12:28:27.284952",
     "status": "completed"
    },
    "tags": []
   },
   "outputs": [
    {
     "data": {
      "text/html": [
       "0"
      ],
      "text/latex": [
       "0"
      ],
      "text/markdown": [
       "0"
      ],
      "text/plain": [
       "[1] 0"
      ]
     },
     "metadata": {},
     "output_type": "display_data"
    }
   ],
   "source": [
    "sum(duplicated(cleaned_data))"
   ]
  },
  {
   "cell_type": "markdown",
   "id": "9ce2289f",
   "metadata": {
    "papermill": {
     "duration": 0.025678,
     "end_time": "2021-10-05T12:28:32.387173",
     "exception": false,
     "start_time": "2021-10-05T12:28:32.361495",
     "status": "completed"
    },
    "tags": []
   },
   "source": [
    "* Now I have added two **columns** to our dataset for performing data analysis.\n",
    "\n",
    "* ride_length - To compute how long it took for the cyclist to complete the trip from start to end station in secs.\n",
    "\n",
    "* day_of_week - Which day of the week the trip took place (ie. 1 - Sunday and 7 - Saturday)"
   ]
  },
  {
   "cell_type": "code",
   "execution_count": 8,
   "id": "3f226876",
   "metadata": {
    "execution": {
     "iopub.execute_input": "2021-10-05T12:28:32.445974Z",
     "iopub.status.busy": "2021-10-05T12:28:32.443869Z",
     "iopub.status.idle": "2021-10-05T12:28:35.362612Z",
     "shell.execute_reply": "2021-10-05T12:28:35.360795Z"
    },
    "papermill": {
     "duration": 2.950198,
     "end_time": "2021-10-05T12:28:35.363056",
     "exception": false,
     "start_time": "2021-10-05T12:28:32.412858",
     "status": "completed"
    },
    "tags": []
   },
   "outputs": [
    {
     "name": "stdout",
     "output_type": "stream",
     "text": [
      "[1] \"Ride Length Sample Data\"\n"
     ]
    },
    {
     "data": {
      "text/html": [
       "<style>\n",
       ".list-inline {list-style: none; margin:0; padding: 0}\n",
       ".list-inline>li {display: inline-block}\n",
       ".list-inline>li:not(:last-child)::after {content: \"\\00b7\"; padding: 0 .5ex}\n",
       "</style>\n",
       "<ol class=list-inline><li>1879</li><li>3858</li><li>341859</li><li>1506</li><li>5477</li><li>41</li></ol>\n"
      ],
      "text/latex": [
       "\\begin{enumerate*}\n",
       "\\item 1879\n",
       "\\item 3858\n",
       "\\item 341859\n",
       "\\item 1506\n",
       "\\item 5477\n",
       "\\item 41\n",
       "\\end{enumerate*}\n"
      ],
      "text/markdown": [
       "1. 1879\n",
       "2. 3858\n",
       "3. 341859\n",
       "4. 1506\n",
       "5. 5477\n",
       "6. 41\n",
       "\n",
       "\n"
      ],
      "text/plain": [
       "[1]   1879   3858 341859   1506   5477     41"
      ]
     },
     "metadata": {},
     "output_type": "display_data"
    },
    {
     "name": "stdout",
     "output_type": "stream",
     "text": [
      "[1] \"Day of Week Sample Data\"\n"
     ]
    },
    {
     "data": {
      "text/html": [
       "<style>\n",
       ".list-inline {list-style: none; margin:0; padding: 0}\n",
       ".list-inline>li {display: inline-block}\n",
       ".list-inline>li:not(:last-child)::after {content: \"\\00b7\"; padding: 0 .5ex}\n",
       "</style>\n",
       "<ol class=list-inline><li>1</li><li>2</li><li>6</li><li>6</li><li>6</li><li>7</li></ol>\n"
      ],
      "text/latex": [
       "\\begin{enumerate*}\n",
       "\\item 1\n",
       "\\item 2\n",
       "\\item 6\n",
       "\\item 6\n",
       "\\item 6\n",
       "\\item 7\n",
       "\\end{enumerate*}\n"
      ],
      "text/markdown": [
       "1. 1\n",
       "2. 2\n",
       "3. 6\n",
       "4. 6\n",
       "5. 6\n",
       "6. 7\n",
       "\n",
       "\n"
      ],
      "text/plain": [
       "[1] 1 2 6 6 6 7"
      ]
     },
     "metadata": {},
     "output_type": "display_data"
    }
   ],
   "source": [
    "new_april_2021_trip_data <- cleaned_data\n",
    "\n",
    "new_april_2021_trip_data$ride_length <- difftime(new_april_2021_trip_data$ended_at,new_april_2021_trip_data$started_at)\n",
    "\n",
    "new_april_2021_trip_data$ride_length <- as.numeric(as.character(new_april_2021_trip_data$ride_length))\n",
    "\n",
    "print(\"Ride Length Sample Data\")\n",
    "head(new_april_2021_trip_data$ride_length)\n",
    "\n",
    "new_april_2021_trip_data$day_of_week <- wday(new_april_2021_trip_data$started_at,week_start=1)\n",
    "\n",
    "print(\"Day of Week Sample Data\")\n",
    "head(new_april_2021_trip_data$day_of_week)"
   ]
  },
  {
   "cell_type": "markdown",
   "id": "c03d23f2",
   "metadata": {
    "papermill": {
     "duration": 0.02738,
     "end_time": "2021-10-05T12:28:35.418365",
     "exception": false,
     "start_time": "2021-10-05T12:28:35.390985",
     "status": "completed"
    },
    "tags": []
   },
   "source": [
    "* Again summarizing the data to see whether the two columns have been added or not."
   ]
  },
  {
   "cell_type": "code",
   "execution_count": 9,
   "id": "6664438d",
   "metadata": {
    "execution": {
     "iopub.execute_input": "2021-10-05T12:28:35.480194Z",
     "iopub.status.busy": "2021-10-05T12:28:35.478436Z",
     "iopub.status.idle": "2021-10-05T12:28:36.526410Z",
     "shell.execute_reply": "2021-10-05T12:28:36.524523Z"
    },
    "papermill": {
     "duration": 1.080473,
     "end_time": "2021-10-05T12:28:36.526612",
     "exception": false,
     "start_time": "2021-10-05T12:28:35.446139",
     "status": "completed"
    },
    "tags": []
   },
   "outputs": [
    {
     "data": {
      "text/plain": [
       "   ride_id          rideable_type       started_at          ended_at        \n",
       " Length:336963      Length:336963      Length:336963      Length:336963     \n",
       " Class :character   Class :character   Class :character   Class :character  \n",
       " Mode  :character   Mode  :character   Mode  :character   Mode  :character  \n",
       "                                                                            \n",
       "                                                                            \n",
       "                                                                            \n",
       " start_station_name start_station_id   end_station_name   end_station_id    \n",
       " Length:336963      Length:336963      Length:336963      Length:336963     \n",
       " Class :character   Class :character   Class :character   Class :character  \n",
       " Mode  :character   Mode  :character   Mode  :character   Mode  :character  \n",
       "                                                                            \n",
       "                                                                            \n",
       "                                                                            \n",
       "   start_lat       start_lng         end_lat         end_lng      \n",
       " Min.   :41.64   Min.   :-87.78   Min.   :41.59   Min.   :-87.85  \n",
       " 1st Qu.:41.88   1st Qu.:-87.66   1st Qu.:41.88   1st Qu.:-87.66  \n",
       " Median :41.90   Median :-87.64   Median :41.90   Median :-87.64  \n",
       " Mean   :41.90   Mean   :-87.64   Mean   :41.90   Mean   :-87.65  \n",
       " 3rd Qu.:41.93   3rd Qu.:-87.63   3rd Qu.:41.93   3rd Qu.:-87.63  \n",
       " Max.   :42.07   Max.   :-87.52   Max.   :42.15   Max.   :-87.52  \n",
       " member_casual       ride_length       day_of_week   \n",
       " Length:336963      Min.   :   -132   Min.   :1.000  \n",
       " Class :character   1st Qu.:    425   1st Qu.:2.000  \n",
       " Mode  :character   Median :    763   Median :4.000  \n",
       "                    Mean   :   1405   Mean   :4.135  \n",
       "                    3rd Qu.:   1421   3rd Qu.:6.000  \n",
       "                    Max.   :2866602   Max.   :7.000  "
      ]
     },
     "metadata": {},
     "output_type": "display_data"
    }
   ],
   "source": [
    "summary(new_april_2021_trip_data)"
   ]
  },
  {
   "cell_type": "markdown",
   "id": "504f1807",
   "metadata": {
    "papermill": {
     "duration": 0.027881,
     "end_time": "2021-10-05T12:28:36.583144",
     "exception": false,
     "start_time": "2021-10-05T12:28:36.555263",
     "status": "completed"
    },
    "tags": []
   },
   "source": [
    "# Data Analysis\n",
    "\n",
    "### Analysis of stations with highest footfall of trips."
   ]
  },
  {
   "cell_type": "code",
   "execution_count": 10,
   "id": "5a488a82",
   "metadata": {
    "execution": {
     "iopub.execute_input": "2021-10-05T12:28:36.646845Z",
     "iopub.status.busy": "2021-10-05T12:28:36.645207Z",
     "iopub.status.idle": "2021-10-05T12:28:36.841867Z",
     "shell.execute_reply": "2021-10-05T12:28:36.840303Z"
    },
    "papermill": {
     "duration": 0.230079,
     "end_time": "2021-10-05T12:28:36.842237",
     "exception": false,
     "start_time": "2021-10-05T12:28:36.612158",
     "status": "completed"
    },
    "tags": []
   },
   "outputs": [
    {
     "data": {
      "text/html": [
       "<table class=\"dataframe\">\n",
       "<caption>A data.frame: 10 × 4</caption>\n",
       "<thead>\n",
       "\t<tr><th></th><th scope=col>start_station_name</th><th scope=col>end_station_name</th><th scope=col>member_casual</th><th scope=col>n</th></tr>\n",
       "\t<tr><th></th><th scope=col>&lt;chr&gt;</th><th scope=col>&lt;chr&gt;</th><th scope=col>&lt;chr&gt;</th><th scope=col>&lt;int&gt;</th></tr>\n",
       "</thead>\n",
       "<tbody>\n",
       "\t<tr><th scope=row>1</th><td>                          </td><td>                          </td><td>casual</td><td>6246</td></tr>\n",
       "\t<tr><th scope=row>2</th><td>                          </td><td>                          </td><td>member</td><td>8961</td></tr>\n",
       "\t<tr><th scope=row>3</th><td>2112 W Peterson Ave       </td><td>2112 W Peterson Ave       </td><td>member</td><td>   4</td></tr>\n",
       "\t<tr><th scope=row>4</th><td>63rd St Beach             </td><td>63rd St Beach             </td><td>casual</td><td>  82</td></tr>\n",
       "\t<tr><th scope=row>5</th><td>63rd St Beach             </td><td>63rd St Beach             </td><td>member</td><td>  10</td></tr>\n",
       "\t<tr><th scope=row>6</th><td>900 W Harrison St         </td><td>900 W Harrison St         </td><td>casual</td><td>  23</td></tr>\n",
       "\t<tr><th scope=row>7</th><td>900 W Harrison St         </td><td>900 W Harrison St         </td><td>member</td><td>  16</td></tr>\n",
       "\t<tr><th scope=row>8</th><td>Aberdeen St &amp; Jackson Blvd</td><td>Aberdeen St &amp; Jackson Blvd</td><td>casual</td><td><span style=white-space:pre-wrap>  22</span></td></tr>\n",
       "\t<tr><th scope=row>9</th><td>Aberdeen St &amp; Jackson Blvd</td><td>Aberdeen St &amp; Jackson Blvd</td><td>member</td><td><span style=white-space:pre-wrap>  33</span></td></tr>\n",
       "\t<tr><th scope=row>10</th><td><span style=white-space:pre-wrap>Aberdeen St &amp; Monroe St   </span></td><td><span style=white-space:pre-wrap>Aberdeen St &amp; Monroe St   </span></td><td>casual</td><td><span style=white-space:pre-wrap>  37</span></td></tr>\n",
       "</tbody>\n",
       "</table>\n"
      ],
      "text/latex": [
       "A data.frame: 10 × 4\n",
       "\\begin{tabular}{r|llll}\n",
       "  & start\\_station\\_name & end\\_station\\_name & member\\_casual & n\\\\\n",
       "  & <chr> & <chr> & <chr> & <int>\\\\\n",
       "\\hline\n",
       "\t1 &                            &                            & casual & 6246\\\\\n",
       "\t2 &                            &                            & member & 8961\\\\\n",
       "\t3 & 2112 W Peterson Ave        & 2112 W Peterson Ave        & member &    4\\\\\n",
       "\t4 & 63rd St Beach              & 63rd St Beach              & casual &   82\\\\\n",
       "\t5 & 63rd St Beach              & 63rd St Beach              & member &   10\\\\\n",
       "\t6 & 900 W Harrison St          & 900 W Harrison St          & casual &   23\\\\\n",
       "\t7 & 900 W Harrison St          & 900 W Harrison St          & member &   16\\\\\n",
       "\t8 & Aberdeen St \\& Jackson Blvd & Aberdeen St \\& Jackson Blvd & casual &   22\\\\\n",
       "\t9 & Aberdeen St \\& Jackson Blvd & Aberdeen St \\& Jackson Blvd & member &   33\\\\\n",
       "\t10 & Aberdeen St \\& Monroe St    & Aberdeen St \\& Monroe St    & casual &   37\\\\\n",
       "\\end{tabular}\n"
      ],
      "text/markdown": [
       "\n",
       "A data.frame: 10 × 4\n",
       "\n",
       "| <!--/--> | start_station_name &lt;chr&gt; | end_station_name &lt;chr&gt; | member_casual &lt;chr&gt; | n &lt;int&gt; |\n",
       "|---|---|---|---|---|\n",
       "| 1 | <!----> | <!----> | casual | 6246 |\n",
       "| 2 | <!----> | <!----> | member | 8961 |\n",
       "| 3 | 2112 W Peterson Ave        | 2112 W Peterson Ave        | member |    4 |\n",
       "| 4 | 63rd St Beach              | 63rd St Beach              | casual |   82 |\n",
       "| 5 | 63rd St Beach              | 63rd St Beach              | member |   10 |\n",
       "| 6 | 900 W Harrison St          | 900 W Harrison St          | casual |   23 |\n",
       "| 7 | 900 W Harrison St          | 900 W Harrison St          | member |   16 |\n",
       "| 8 | Aberdeen St &amp; Jackson Blvd | Aberdeen St &amp; Jackson Blvd | casual |   22 |\n",
       "| 9 | Aberdeen St &amp; Jackson Blvd | Aberdeen St &amp; Jackson Blvd | member |   33 |\n",
       "| 10 | Aberdeen St &amp; Monroe St    | Aberdeen St &amp; Monroe St    | casual |   37 |\n",
       "\n"
      ],
      "text/plain": [
       "   start_station_name         end_station_name           member_casual n   \n",
       "1                                                        casual        6246\n",
       "2                                                        member        8961\n",
       "3  2112 W Peterson Ave        2112 W Peterson Ave        member           4\n",
       "4  63rd St Beach              63rd St Beach              casual          82\n",
       "5  63rd St Beach              63rd St Beach              member          10\n",
       "6  900 W Harrison St          900 W Harrison St          casual          23\n",
       "7  900 W Harrison St          900 W Harrison St          member          16\n",
       "8  Aberdeen St & Jackson Blvd Aberdeen St & Jackson Blvd casual          22\n",
       "9  Aberdeen St & Jackson Blvd Aberdeen St & Jackson Blvd member          33\n",
       "10 Aberdeen St & Monroe St    Aberdeen St & Monroe St    casual          37"
      ]
     },
     "metadata": {},
     "output_type": "display_data"
    },
    {
     "data": {
      "text/html": [
       "<table class=\"dataframe\">\n",
       "<caption>A data.frame: 10 × 3</caption>\n",
       "<thead>\n",
       "\t<tr><th></th><th scope=col>start_station_name</th><th scope=col>member_casual</th><th scope=col>n</th></tr>\n",
       "\t<tr><th></th><th scope=col>&lt;chr&gt;</th><th scope=col>&lt;chr&gt;</th><th scope=col>&lt;int&gt;</th></tr>\n",
       "</thead>\n",
       "<tbody>\n",
       "\t<tr><th scope=row>1</th><td>                          </td><td>casual</td><td>4174</td></tr>\n",
       "\t<tr><th scope=row>2</th><td>                          </td><td>member</td><td>6675</td></tr>\n",
       "\t<tr><th scope=row>3</th><td>2112 W Peterson Ave       </td><td>casual</td><td>  16</td></tr>\n",
       "\t<tr><th scope=row>4</th><td>2112 W Peterson Ave       </td><td>member</td><td>  47</td></tr>\n",
       "\t<tr><th scope=row>5</th><td>63rd St Beach             </td><td>casual</td><td>  51</td></tr>\n",
       "\t<tr><th scope=row>6</th><td>63rd St Beach             </td><td>member</td><td>  65</td></tr>\n",
       "\t<tr><th scope=row>7</th><td>900 W Harrison St         </td><td>casual</td><td> 117</td></tr>\n",
       "\t<tr><th scope=row>8</th><td>900 W Harrison St         </td><td>member</td><td> 267</td></tr>\n",
       "\t<tr><th scope=row>9</th><td>Aberdeen St &amp; Jackson Blvd</td><td>casual</td><td> 165</td></tr>\n",
       "\t<tr><th scope=row>10</th><td>Aberdeen St &amp; Jackson Blvd</td><td>member</td><td> 560</td></tr>\n",
       "</tbody>\n",
       "</table>\n"
      ],
      "text/latex": [
       "A data.frame: 10 × 3\n",
       "\\begin{tabular}{r|lll}\n",
       "  & start\\_station\\_name & member\\_casual & n\\\\\n",
       "  & <chr> & <chr> & <int>\\\\\n",
       "\\hline\n",
       "\t1 &                            & casual & 4174\\\\\n",
       "\t2 &                            & member & 6675\\\\\n",
       "\t3 & 2112 W Peterson Ave        & casual &   16\\\\\n",
       "\t4 & 2112 W Peterson Ave        & member &   47\\\\\n",
       "\t5 & 63rd St Beach              & casual &   51\\\\\n",
       "\t6 & 63rd St Beach              & member &   65\\\\\n",
       "\t7 & 900 W Harrison St          & casual &  117\\\\\n",
       "\t8 & 900 W Harrison St          & member &  267\\\\\n",
       "\t9 & Aberdeen St \\& Jackson Blvd & casual &  165\\\\\n",
       "\t10 & Aberdeen St \\& Jackson Blvd & member &  560\\\\\n",
       "\\end{tabular}\n"
      ],
      "text/markdown": [
       "\n",
       "A data.frame: 10 × 3\n",
       "\n",
       "| <!--/--> | start_station_name &lt;chr&gt; | member_casual &lt;chr&gt; | n &lt;int&gt; |\n",
       "|---|---|---|---|\n",
       "| 1 | <!----> | casual | 4174 |\n",
       "| 2 | <!----> | member | 6675 |\n",
       "| 3 | 2112 W Peterson Ave        | casual |   16 |\n",
       "| 4 | 2112 W Peterson Ave        | member |   47 |\n",
       "| 5 | 63rd St Beach              | casual |   51 |\n",
       "| 6 | 63rd St Beach              | member |   65 |\n",
       "| 7 | 900 W Harrison St          | casual |  117 |\n",
       "| 8 | 900 W Harrison St          | member |  267 |\n",
       "| 9 | Aberdeen St &amp; Jackson Blvd | casual |  165 |\n",
       "| 10 | Aberdeen St &amp; Jackson Blvd | member |  560 |\n",
       "\n"
      ],
      "text/plain": [
       "   start_station_name         member_casual n   \n",
       "1                             casual        4174\n",
       "2                             member        6675\n",
       "3  2112 W Peterson Ave        casual          16\n",
       "4  2112 W Peterson Ave        member          47\n",
       "5  63rd St Beach              casual          51\n",
       "6  63rd St Beach              member          65\n",
       "7  900 W Harrison St          casual         117\n",
       "8  900 W Harrison St          member         267\n",
       "9  Aberdeen St & Jackson Blvd casual         165\n",
       "10 Aberdeen St & Jackson Blvd member         560"
      ]
     },
     "metadata": {},
     "output_type": "display_data"
    }
   ],
   "source": [
    "head(count(filter(new_april_2021_trip_data,start_station_name==end_station_name),start_station_name,end_station_name,member_casual),10)\n",
    "\n",
    "head(count(filter(new_april_2021_trip_data,start_station_name!=end_station_name),start_station_name,member_casual),10)"
   ]
  },
  {
   "cell_type": "markdown",
   "id": "095dcafb",
   "metadata": {
    "papermill": {
     "duration": 0.030885,
     "end_time": "2021-10-05T12:28:36.903082",
     "exception": false,
     "start_time": "2021-10-05T12:28:36.872197",
     "status": "completed"
    },
    "tags": []
   },
   "source": [
    "### Analysis of blank stations."
   ]
  },
  {
   "cell_type": "code",
   "execution_count": 11,
   "id": "b23f5017",
   "metadata": {
    "execution": {
     "iopub.execute_input": "2021-10-05T12:28:36.971511Z",
     "iopub.status.busy": "2021-10-05T12:28:36.969875Z",
     "iopub.status.idle": "2021-10-05T12:28:37.019606Z",
     "shell.execute_reply": "2021-10-05T12:28:37.018063Z"
    },
    "papermill": {
     "duration": 0.08468,
     "end_time": "2021-10-05T12:28:37.019791",
     "exception": false,
     "start_time": "2021-10-05T12:28:36.935111",
     "status": "completed"
    },
    "tags": []
   },
   "outputs": [
    {
     "data": {
      "text/html": [
       "<table class=\"dataframe\">\n",
       "<caption>A data.frame: 2 × 4</caption>\n",
       "<thead>\n",
       "\t<tr><th></th><th scope=col>start_station_name</th><th scope=col>rideable_type</th><th scope=col>member_casual</th><th scope=col>n</th></tr>\n",
       "\t<tr><th></th><th scope=col>&lt;chr&gt;</th><th scope=col>&lt;chr&gt;</th><th scope=col>&lt;chr&gt;</th><th scope=col>&lt;int&gt;</th></tr>\n",
       "</thead>\n",
       "<tbody>\n",
       "\t<tr><th scope=row>1</th><td></td><td>electric_bike</td><td>casual</td><td>10420</td></tr>\n",
       "\t<tr><th scope=row>2</th><td></td><td>electric_bike</td><td>member</td><td>15636</td></tr>\n",
       "</tbody>\n",
       "</table>\n"
      ],
      "text/latex": [
       "A data.frame: 2 × 4\n",
       "\\begin{tabular}{r|llll}\n",
       "  & start\\_station\\_name & rideable\\_type & member\\_casual & n\\\\\n",
       "  & <chr> & <chr> & <chr> & <int>\\\\\n",
       "\\hline\n",
       "\t1 &  & electric\\_bike & casual & 10420\\\\\n",
       "\t2 &  & electric\\_bike & member & 15636\\\\\n",
       "\\end{tabular}\n"
      ],
      "text/markdown": [
       "\n",
       "A data.frame: 2 × 4\n",
       "\n",
       "| <!--/--> | start_station_name &lt;chr&gt; | rideable_type &lt;chr&gt; | member_casual &lt;chr&gt; | n &lt;int&gt; |\n",
       "|---|---|---|---|---|\n",
       "| 1 | <!----> | electric_bike | casual | 10420 |\n",
       "| 2 | <!----> | electric_bike | member | 15636 |\n",
       "\n"
      ],
      "text/plain": [
       "  start_station_name rideable_type member_casual n    \n",
       "1                    electric_bike casual        10420\n",
       "2                    electric_bike member        15636"
      ]
     },
     "metadata": {},
     "output_type": "display_data"
    }
   ],
   "source": [
    "head(count(filter(new_april_2021_trip_data,start_station_name==\"\"),start_station_name,rideable_type,member_casual),10)"
   ]
  },
  {
   "cell_type": "markdown",
   "id": "3830015d",
   "metadata": {
    "papermill": {
     "duration": 0.030592,
     "end_time": "2021-10-05T12:28:37.081444",
     "exception": false,
     "start_time": "2021-10-05T12:28:37.050852",
     "status": "completed"
    },
    "tags": []
   },
   "source": [
    "### Average distance covered by different types of bikes."
   ]
  },
  {
   "cell_type": "code",
   "execution_count": 12,
   "id": "e2751bd2",
   "metadata": {
    "execution": {
     "iopub.execute_input": "2021-10-05T12:28:37.174185Z",
     "iopub.status.busy": "2021-10-05T12:28:37.169815Z",
     "iopub.status.idle": "2021-10-05T12:28:37.485214Z",
     "shell.execute_reply": "2021-10-05T12:28:37.483577Z"
    },
    "papermill": {
     "duration": 0.369914,
     "end_time": "2021-10-05T12:28:37.485401",
     "exception": false,
     "start_time": "2021-10-05T12:28:37.115487",
     "status": "completed"
    },
    "tags": []
   },
   "outputs": [
    {
     "data": {
      "text/html": [
       "<table class=\"dataframe\">\n",
       "<caption>A data.frame: 3 × 2</caption>\n",
       "<thead>\n",
       "\t<tr><th scope=col>new_april_2021_trip_data$rideable_type</th><th scope=col>new_april_2021_trip_data$ride_length</th></tr>\n",
       "\t<tr><th scope=col>&lt;chr&gt;</th><th scope=col>&lt;dbl&gt;</th></tr>\n",
       "</thead>\n",
       "<tbody>\n",
       "\t<tr><td>classic_bike </td><td>1158.295</td></tr>\n",
       "\t<tr><td>docked_bike  </td><td>5012.767</td></tr>\n",
       "\t<tr><td>electric_bike</td><td>1035.704</td></tr>\n",
       "</tbody>\n",
       "</table>\n"
      ],
      "text/latex": [
       "A data.frame: 3 × 2\n",
       "\\begin{tabular}{ll}\n",
       " new\\_april\\_2021\\_trip\\_data\\$rideable\\_type & new\\_april\\_2021\\_trip\\_data\\$ride\\_length\\\\\n",
       " <chr> & <dbl>\\\\\n",
       "\\hline\n",
       "\t classic\\_bike  & 1158.295\\\\\n",
       "\t docked\\_bike   & 5012.767\\\\\n",
       "\t electric\\_bike & 1035.704\\\\\n",
       "\\end{tabular}\n"
      ],
      "text/markdown": [
       "\n",
       "A data.frame: 3 × 2\n",
       "\n",
       "| new_april_2021_trip_data$rideable_type &lt;chr&gt; | new_april_2021_trip_data$ride_length &lt;dbl&gt; |\n",
       "|---|---|\n",
       "| classic_bike  | 1158.295 |\n",
       "| docked_bike   | 5012.767 |\n",
       "| electric_bike | 1035.704 |\n",
       "\n"
      ],
      "text/plain": [
       "  new_april_2021_trip_data$rideable_type new_april_2021_trip_data$ride_length\n",
       "1 classic_bike                           1158.295                            \n",
       "2 docked_bike                            5012.767                            \n",
       "3 electric_bike                          1035.704                            "
      ]
     },
     "metadata": {},
     "output_type": "display_data"
    }
   ],
   "source": [
    "aggregate(new_april_2021_trip_data$ride_length~new_april_2021_trip_data$rideable_type,FUN = mean)"
   ]
  },
  {
   "cell_type": "markdown",
   "id": "c2929ce4",
   "metadata": {
    "papermill": {
     "duration": 0.03225,
     "end_time": "2021-10-05T12:28:37.550227",
     "exception": false,
     "start_time": "2021-10-05T12:28:37.517977",
     "status": "completed"
    },
    "tags": []
   },
   "source": [
    "### Average duration of different types of members"
   ]
  },
  {
   "cell_type": "code",
   "execution_count": 13,
   "id": "dc5f8946",
   "metadata": {
    "execution": {
     "iopub.execute_input": "2021-10-05T12:28:37.624216Z",
     "iopub.status.busy": "2021-10-05T12:28:37.622307Z",
     "iopub.status.idle": "2021-10-05T12:28:37.666743Z",
     "shell.execute_reply": "2021-10-05T12:28:37.665199Z"
    },
    "papermill": {
     "duration": 0.084547,
     "end_time": "2021-10-05T12:28:37.666989",
     "exception": false,
     "start_time": "2021-10-05T12:28:37.582442",
     "status": "completed"
    },
    "tags": []
   },
   "outputs": [
    {
     "data": {
      "text/html": [
       "<table class=\"dataframe\">\n",
       "<caption>A tibble: 2 × 3</caption>\n",
       "<thead>\n",
       "\t<tr><th scope=col>member_casual</th><th scope=col>number_of_rides</th><th scope=col>average_duration</th></tr>\n",
       "\t<tr><th scope=col>&lt;chr&gt;</th><th scope=col>&lt;int&gt;</th><th scope=col>&lt;dbl&gt;</th></tr>\n",
       "</thead>\n",
       "<tbody>\n",
       "\t<tr><td>casual</td><td>136414</td><td>2196.4948</td></tr>\n",
       "\t<tr><td>member</td><td>200549</td><td> 867.2602</td></tr>\n",
       "</tbody>\n",
       "</table>\n"
      ],
      "text/latex": [
       "A tibble: 2 × 3\n",
       "\\begin{tabular}{lll}\n",
       " member\\_casual & number\\_of\\_rides & average\\_duration\\\\\n",
       " <chr> & <int> & <dbl>\\\\\n",
       "\\hline\n",
       "\t casual & 136414 & 2196.4948\\\\\n",
       "\t member & 200549 &  867.2602\\\\\n",
       "\\end{tabular}\n"
      ],
      "text/markdown": [
       "\n",
       "A tibble: 2 × 3\n",
       "\n",
       "| member_casual &lt;chr&gt; | number_of_rides &lt;int&gt; | average_duration &lt;dbl&gt; |\n",
       "|---|---|---|\n",
       "| casual | 136414 | 2196.4948 |\n",
       "| member | 200549 |  867.2602 |\n",
       "\n"
      ],
      "text/plain": [
       "  member_casual number_of_rides average_duration\n",
       "1 casual        136414          2196.4948       \n",
       "2 member        200549           867.2602       "
      ]
     },
     "metadata": {},
     "output_type": "display_data"
    }
   ],
   "source": [
    "new_april_2021_trip_data %>%  \n",
    "  group_by(member_casual) %>% \n",
    "  summarise(number_of_rides = n()\n",
    "            ,average_duration = mean(ride_length)) \n"
   ]
  },
  {
   "cell_type": "markdown",
   "id": "4868e3ac",
   "metadata": {
    "papermill": {
     "duration": 0.032649,
     "end_time": "2021-10-05T12:28:37.732790",
     "exception": false,
     "start_time": "2021-10-05T12:28:37.700141",
     "status": "completed"
    },
    "tags": []
   },
   "source": [
    "# Data Visualization"
   ]
  },
  {
   "cell_type": "markdown",
   "id": "2b0826b5",
   "metadata": {
    "papermill": {
     "duration": 0.032658,
     "end_time": "2021-10-05T12:28:37.798536",
     "exception": false,
     "start_time": "2021-10-05T12:28:37.765878",
     "status": "completed"
    },
    "tags": []
   },
   "source": [
    "## 1. Type of bikes usage by riders in a week "
   ]
  },
  {
   "cell_type": "code",
   "execution_count": 14,
   "id": "fd0d1e81",
   "metadata": {
    "execution": {
     "iopub.execute_input": "2021-10-05T12:28:37.872275Z",
     "iopub.status.busy": "2021-10-05T12:28:37.870416Z",
     "iopub.status.idle": "2021-10-05T12:28:39.455072Z",
     "shell.execute_reply": "2021-10-05T12:28:39.453095Z"
    },
    "papermill": {
     "duration": 1.623611,
     "end_time": "2021-10-05T12:28:39.455351",
     "exception": false,
     "start_time": "2021-10-05T12:28:37.831740",
     "status": "completed"
    },
    "tags": []
   },
   "outputs": [
    {
     "data": {
      "image/png": "[encoded data removed]"
     },
     "metadata": {
      "image/png": {
       "height": 420,
       "width": 420
      }
     },
     "output_type": "display_data"
    }
   ],
   "source": [
    "plot1<-ggplot(data=new_april_2021_trip_data,aes(x=day_of_week,fill=rideable_type))+geom_bar()+labs(x=\"Days of Week (0-Sun,6-Sat)\",y=\"Count Percentage\",fill=\"Ride Type\")+facet_grid(.~member_casual)\n",
    "\n",
    "print(plot1+ggtitle(\"Weekly casual and member riders bike usage and ride type\"))"
   ]
  },
  {
   "cell_type": "markdown",
   "id": "28298eee",
   "metadata": {
    "papermill": {
     "duration": 0.034473,
     "end_time": "2021-10-05T12:28:39.525989",
     "exception": false,
     "start_time": "2021-10-05T12:28:39.491516",
     "status": "completed"
    },
    "tags": []
   },
   "source": [
    "## 2. Type of members using different types of bike in a week"
   ]
  },
  {
   "cell_type": "code",
   "execution_count": 15,
   "id": "2f798ebc",
   "metadata": {
    "execution": {
     "iopub.execute_input": "2021-10-05T12:28:39.601286Z",
     "iopub.status.busy": "2021-10-05T12:28:39.599340Z",
     "iopub.status.idle": "2021-10-05T12:28:40.883992Z",
     "shell.execute_reply": "2021-10-05T12:28:40.882385Z"
    },
    "papermill": {
     "duration": 1.323877,
     "end_time": "2021-10-05T12:28:40.884168",
     "exception": false,
     "start_time": "2021-10-05T12:28:39.560291",
     "status": "completed"
    },
    "tags": []
   },
   "outputs": [
    {
     "data": {
      "image/png": "[encoded data removed]"
     },
     "metadata": {
      "image/png": {
       "height": 420,
       "width": 420
      }
     },
     "output_type": "display_data"
    }
   ],
   "source": [
    "plot2<-ggplot(new_april_2021_trip_data,aes(x=day_of_week,y = ..prop..,fill=member_casual))+geom_bar(width=0.5)+scale_y_continuous(labels = scales::percent)+labs(x=\"Days of Week (0-Sun,6-Sat)\",y=\"Count Percentage\",fill=\"Member Type\")+facet_grid(.~rideable_type)\n",
    "\n",
    "print(plot2+ggtitle(label = \"Weekly type of ride (Classic,Docked and Electric) usage.\"))"
   ]
  },
  {
   "cell_type": "markdown",
   "id": "35942b5b",
   "metadata": {
    "papermill": {
     "duration": 0.035862,
     "end_time": "2021-10-05T12:28:40.956131",
     "exception": false,
     "start_time": "2021-10-05T12:28:40.920269",
     "status": "completed"
    },
    "tags": []
   },
   "source": [
    "## 3. Bike utilization on each day of the week by different member types"
   ]
  },
  {
   "cell_type": "code",
   "execution_count": 16,
   "id": "31325d2b",
   "metadata": {
    "execution": {
     "iopub.execute_input": "2021-10-05T12:28:41.039750Z",
     "iopub.status.busy": "2021-10-05T12:28:41.037453Z",
     "iopub.status.idle": "2021-10-05T12:28:43.549145Z",
     "shell.execute_reply": "2021-10-05T12:28:43.547092Z"
    },
    "papermill": {
     "duration": 2.557607,
     "end_time": "2021-10-05T12:28:43.549324",
     "exception": false,
     "start_time": "2021-10-05T12:28:40.991717",
     "status": "completed"
    },
    "tags": []
   },
   "outputs": [
    {
     "data": {
      "image/png": "[encoded data removed]"
     },
     "metadata": {
      "image/png": {
       "height": 420,
       "width": 420
      }
     },
     "output_type": "display_data"
    }
   ],
   "source": [
    "new_april_2021_trip_data$day_of_week_names<-wday(new_april_2021_trip_data$started_at,label=TRUE)\n",
    "\n",
    "plot3<-ggplot(new_april_2021_trip_data,aes(x=member_casual,fill=member_casual))+geom_bar(width=0.5)+labs(x=\"Member Type\",y=\"Count of rides\",fill=\"Member Type\")+facet_grid(day_of_week_names~.,switch = \"y\", scales = \"free\", space = \"free\")+theme(panel.spacing = unit(2, \"lines\"))+ coord_flip()\n",
    "\n",
    "print(plot3+ggtitle(label=\"Utilization of bikes by number of rides in each day of the week\"))"
   ]
  },
  {
   "cell_type": "markdown",
   "id": "97f2ca76",
   "metadata": {
    "papermill": {
     "duration": 0.036666,
     "end_time": "2021-10-05T12:28:43.623132",
     "exception": false,
     "start_time": "2021-10-05T12:28:43.586466",
     "status": "completed"
    },
    "tags": []
   },
   "source": [
    "## Key Findings and Insights\n",
    "\n",
    "1. Average ride length of a trip is 1405 secs.\n",
    "2. 2112 W Peterson Ave station has least number of rides.\n",
    "3. There are 10420 casual and 15636 member, NULL station names and are using electric bikes.\n",
    "4. Docked bikes covered maximum distance and electric bikes least.\n",
    "5. Member type riders have done more rides then casual type rider but for a shorter distance.\n",
    "6. Classic bikes are the most preferred bike by member and casual riders in a week.\n",
    "7. Member riders have never used docked bike in a week.\n",
    "8. Member riders have taken maximum rides on Tues and Fri whereas Classic riders have taken most rides on Fri and Sat.\n"
   ]
  },
  {
   "cell_type": "markdown",
   "id": "58bd5035",
   "metadata": {
    "papermill": {
     "duration": 0.037833,
     "end_time": "2021-10-05T12:28:43.697573",
     "exception": false,
     "start_time": "2021-10-05T12:28:43.659740",
     "status": "completed"
    },
    "tags": []
   },
   "source": [
    "## Recommendation\n",
    "\n",
    "1. Digital marketing team needs to target stations such as 2112 W Peterson Ave station and others for better reach of the product.\n",
    "2. Technical team can perform testing on electric bikes and improve the synchronization with the app to avoid technical glicthes like blank station names etc.\n",
    "3. A special plan can be introduced for Casual type riders by giving offers like Free trial if registered for Membership for certain Kms and as they prefer the bikes for longer rides then they can be given extra discount on the total amount being charged.\n",
    "4. A dedicated support team can be step up for customers who opt for electric bikes as their ride to attract more users towards electric bikes.\n",
    "5. Advance booking feature can be introduced for membership customers on Peak days such as Tues,Fri and Sat to avoid last minute challenge of finding the bike at the prefered spot."
   ]
  }
 ],
 "metadata": {
  "kernelspec": {
   "display_name": "R",
   "language": "R",
   "name": "ir"
  },
  "language_info": {
   "codemirror_mode": "r",
   "file_extension": ".r",
   "mimetype": "text/x-r-source",
   "name": "R",
   "pygments_lexer": "r",
   "version": "4.0.5"
  },
  "papermill": {
   "default_parameters": {},
   "duration": 41.839662,
   "end_time": "2021-10-05T12:28:44.835297",
   "environment_variables": {},
   "exception": null,
   "input_path": "__notebook__.ipynb",
   "output_path": "__notebook__.ipynb",
   "parameters": {},
   "start_time": "2021-10-05T12:28:02.995635",
   "version": "2.3.3"
  }
 },
 "nbformat": 4,
 "nbformat_minor": 5
}
