{
  "nbformat": 4,
  "nbformat_minor": 0,
  "metadata": {
    "colab": {
      "name": "Bellabeat Data Analysis.ipynb",
      "provenance": [],
      "collapsed_sections": [
        "iTcD0tEMAdEM",
        "_JWNjhRYBN6N",
        "JKmFjHG4s1HQ",
        "Zim62DJsJRd9",
        "pSSSW77EBC-h",
        "S5FLwFEDDeJh",
        "2AOooCLUhvuz",
        "tQhkHI5fhEIH",
        "Rnur6DLqoJq2",
        "R5pP8OgdBhQu",
        "vI4B_uqIL_4B",
        "YoQOGb-JkzPb",
        "7_F7RL-QkHYA",
        "U6MmzbB4EyJT"
      ]
    },
    "kernelspec": {
      "name": "python3",
      "display_name": "Python 3"
    },
    "language_info": {
      "name": "python"
    }
  },
  "cells": [
    {
      "cell_type": "markdown",
      "metadata": {
        "id": "wFTIbhOGsYJd"
      },
      "source": [
        "# Bellabeat Data Analysis\n"
      ]
    },
    {
      "cell_type": "markdown",
      "metadata": {
        "id": "iTcD0tEMAdEM"
      },
      "source": [
        "# Introduction:"
      ]
    },
    {
      "cell_type": "markdown",
      "metadata": {
        "id": "bAkgSwMGAlIk"
      },
      "source": [
        "Bellabeat is a fitness tech company which was founded by Urška Sršen and Sando Mur in 2013 which specializes in health-focused smart products for women. They have analytics system in place to collect different metrics of people who are using the products such as activity,sleep,calories,weight to provide insights into their health.\n",
        "\n",
        "Bellabeat's range of products and services includes:\n",
        "\n",
        "- Bellabeat app: The Bellabeat app provides users with health data related to their activity, sleep, stress, and mindfulness habits. This data can help users better understand their current habits and make healthy decisions. The Bellabeat app connects to their line of smart wellness products.\n",
        "\n",
        "- Leaf: Bellabeat’s classic wellness tracker can be worn as a bracelet, necklace, or clip. The Leaf tracker connects to the Bellabeat app to track activity, sleep, and stress.\n",
        "\n",
        "- Time: This wellness watch combines the timeless look of a classic timepiece with smart technology to track user activity, sleep, and stress. The Time watch connects to the Bellabeat app to provide you with insights into your daily wellness.\n",
        "\n",
        "- Spring: This is a water bottle that tracks daily water intake using smart technology to ensure that you are appropriately hydrated throughout the day. The Spring bottle connects to the Bellabeat app to track your hydration levels.\n",
        "\n",
        "- Bellabeat membership: Bellabeat also offers a subscription-based membership program for users.Membership gives users 24/7 access to fully personalized guidance on nutrition, activity, sleep, health and beauty, and mindfulness based on their lifestyle and goals."
      ]
    },
    {
      "cell_type": "markdown",
      "metadata": {
        "id": "_JWNjhRYBN6N"
      },
      "source": [
        "#Business task: "
      ]
    },
    {
      "cell_type": "markdown",
      "metadata": {
        "id": "fnnof2b9B2Xz"
      },
      "source": [
        "Analyze smart device usage data to gain insights into how non-Bellabeat customers use their smart devices.\n",
        "\n",
        "Questions for the analysis\n",
        "\n",
        "1. What are some trends in smart device usage?\n",
        "\n",
        "2. How could these trends apply to Bellabeat customers?\n",
        "\n",
        "3. How could these trends help influence Bellabeat’s marketing strategy?\n",
        "\n",
        "Key Stakeholders:\n",
        "\n",
        "Urška Sršen — Bellabeat’s cofounder and Chief Creative Officer\n",
        "\n",
        "Sando Mur — Mathematician and Bellabeat’s cofounder(key member of the Bellabeat executive team).\n",
        "\n",
        "Bellabeat marketing team - The team in-charge of collecting,analyzing and acting upon analytics to take decision on bellabeat's marketing"
      ]
    },
    {
      "cell_type": "markdown",
      "metadata": {
        "id": "JKmFjHG4s1HQ"
      },
      "source": [
        "#Download the dataset"
      ]
    },
    {
      "cell_type": "code",
      "metadata": {
        "id": "SNUfJyS8sJwl"
      },
      "source": [
        "pip install opendatasets --upgrade --quiet"
      ],
      "execution_count": null,
      "outputs": []
    },
    {
      "cell_type": "code",
      "metadata": {
        "id": "ThpGl0IztA3v"
      },
      "source": [
        "import opendatasets as od"
      ],
      "execution_count": null,
      "outputs": []
    },
    {
      "cell_type": "code",
      "metadata": {
        "colab": {
          "base_uri": "https://localhost:8080/"
        },
        "id": "CJTkyVHstBLy",
        "outputId": "29099608-672a-49f5-d495-f58c25980503"
      },
      "source": [
        "download_url = 'https://www.kaggle.com/arashnic/fitbit'\n",
        "\n",
        "od.download(download_url)"
      ],
      "execution_count": null,
      "outputs": [
        {
          "output_type": "stream",
          "name": "stdout",
          "text": [
            "Please provide your Kaggle credentials to download this dataset. Learn more: http://bit.ly/kaggle-creds\n",
            "Your Kaggle username: nitant06\n",
            "Your Kaggle Key: ··········\n",
            "Downloading fitbit.zip to ./fitbit\n"
          ]
        },
        {
          "output_type": "stream",
          "name": "stderr",
          "text": [
            "100%|██████████| 24.1M/24.1M [00:00<00:00, 91.6MB/s]\n"
          ]
        },
        {
          "output_type": "stream",
          "name": "stdout",
          "text": [
            "\n"
          ]
        }
      ]
    },
    {
      "cell_type": "markdown",
      "metadata": {
        "id": "LjNYJuLxtE2o"
      },
      "source": [
        "# Data Preparation and Cleaning\n",
        "\n",
        "1. Load the file using pandas\n",
        "2. Look at info about the data & columns\n",
        "3. Fix any missing or incorrect values"
      ]
    },
    {
      "cell_type": "markdown",
      "metadata": {
        "id": "Zim62DJsJRd9"
      },
      "source": [
        "## Import Files"
      ]
    },
    {
      "cell_type": "code",
      "metadata": {
        "id": "kA-_mH2jIz4a"
      },
      "source": [
        "import pandas as pd\n",
        "import seaborn as sns\n",
        "sns.set_style(\"darkgrid\")\n",
        "import matplotlib.pyplot as plt\n",
        "import statistics as st"
      ],
      "execution_count": null,
      "outputs": []
    },
    {
      "cell_type": "markdown",
      "metadata": {
        "id": "pSSSW77EBC-h"
      },
      "source": [
        "## 1. Daily Activities Dataset"
      ]
    },
    {
      "cell_type": "code",
      "metadata": {
        "id": "GimYweOC97hi"
      },
      "source": [
        "dailyActivity_filename = './fitbit/Fitabase Data 4.12.16-5.12.16/dailyActivity_merged.csv'"
      ],
      "execution_count": null,
      "outputs": []
    },
    {
      "cell_type": "code",
      "metadata": {
        "id": "oVJtDXoItGZG"
      },
      "source": [
        "dailyActivity_df = pd.read_csv(dailyActivity_filename)"
      ],
      "execution_count": null,
      "outputs": []
    },
    {
      "cell_type": "code",
      "metadata": {
        "colab": {
          "base_uri": "https://localhost:8080/",
          "height": 439
        },
        "id": "rqicnyTWtGi_",
        "outputId": "5edaf99c-19bd-45ee-bbef-2befc48e951d"
      },
      "source": [
        "dailyActivity_df"
      ],
      "execution_count": null,
      "outputs": [
        {
          "output_type": "execute_result",
          "data": {
            "text/html": [
              "<div>\n",
              "<style scoped>\n",
              "    .dataframe tbody tr th:only-of-type {\n",
              "        vertical-align: middle;\n",
              "    }\n",
              "\n",
              "    .dataframe tbody tr th {\n",
              "        vertical-align: top;\n",
              "    }\n",
              "\n",
              "    .dataframe thead th {\n",
              "        text-align: right;\n",
              "    }\n",
              "</style>\n",
              "<table border=\"1\" class=\"dataframe\">\n",
              "  <thead>\n",
              "    <tr style=\"text-align: right;\">\n",
              "      <th></th>\n",
              "      <th>Id</th>\n",
              "      <th>ActivityDate</th>\n",
              "      <th>TotalSteps</th>\n",
              "      <th>TotalDistance</th>\n",
              "      <th>TrackerDistance</th>\n",
              "      <th>LoggedActivitiesDistance</th>\n",
              "      <th>VeryActiveDistance</th>\n",
              "      <th>ModeratelyActiveDistance</th>\n",
              "      <th>LightActiveDistance</th>\n",
              "      <th>SedentaryActiveDistance</th>\n",
              "      <th>VeryActiveMinutes</th>\n",
              "      <th>FairlyActiveMinutes</th>\n",
              "      <th>LightlyActiveMinutes</th>\n",
              "      <th>SedentaryMinutes</th>\n",
              "      <th>Calories</th>\n",
              "    </tr>\n",
              "  </thead>\n",
              "  <tbody>\n",
              "    <tr>\n",
              "      <th>0</th>\n",
              "      <td>1503960366</td>\n",
              "      <td>4/12/2016</td>\n",
              "      <td>13162</td>\n",
              "      <td>8.500000</td>\n",
              "      <td>8.500000</td>\n",
              "      <td>0.0</td>\n",
              "      <td>1.88</td>\n",
              "      <td>0.55</td>\n",
              "      <td>6.06</td>\n",
              "      <td>0.00</td>\n",
              "      <td>25</td>\n",
              "      <td>13</td>\n",
              "      <td>328</td>\n",
              "      <td>728</td>\n",
              "      <td>1985</td>\n",
              "    </tr>\n",
              "    <tr>\n",
              "      <th>1</th>\n",
              "      <td>1503960366</td>\n",
              "      <td>4/13/2016</td>\n",
              "      <td>10735</td>\n",
              "      <td>6.970000</td>\n",
              "      <td>6.970000</td>\n",
              "      <td>0.0</td>\n",
              "      <td>1.57</td>\n",
              "      <td>0.69</td>\n",
              "      <td>4.71</td>\n",
              "      <td>0.00</td>\n",
              "      <td>21</td>\n",
              "      <td>19</td>\n",
              "      <td>217</td>\n",
              "      <td>776</td>\n",
              "      <td>1797</td>\n",
              "    </tr>\n",
              "    <tr>\n",
              "      <th>2</th>\n",
              "      <td>1503960366</td>\n",
              "      <td>4/14/2016</td>\n",
              "      <td>10460</td>\n",
              "      <td>6.740000</td>\n",
              "      <td>6.740000</td>\n",
              "      <td>0.0</td>\n",
              "      <td>2.44</td>\n",
              "      <td>0.40</td>\n",
              "      <td>3.91</td>\n",
              "      <td>0.00</td>\n",
              "      <td>30</td>\n",
              "      <td>11</td>\n",
              "      <td>181</td>\n",
              "      <td>1218</td>\n",
              "      <td>1776</td>\n",
              "    </tr>\n",
              "    <tr>\n",
              "      <th>3</th>\n",
              "      <td>1503960366</td>\n",
              "      <td>4/15/2016</td>\n",
              "      <td>9762</td>\n",
              "      <td>6.280000</td>\n",
              "      <td>6.280000</td>\n",
              "      <td>0.0</td>\n",
              "      <td>2.14</td>\n",
              "      <td>1.26</td>\n",
              "      <td>2.83</td>\n",
              "      <td>0.00</td>\n",
              "      <td>29</td>\n",
              "      <td>34</td>\n",
              "      <td>209</td>\n",
              "      <td>726</td>\n",
              "      <td>1745</td>\n",
              "    </tr>\n",
              "    <tr>\n",
              "      <th>4</th>\n",
              "      <td>1503960366</td>\n",
              "      <td>4/16/2016</td>\n",
              "      <td>12669</td>\n",
              "      <td>8.160000</td>\n",
              "      <td>8.160000</td>\n",
              "      <td>0.0</td>\n",
              "      <td>2.71</td>\n",
              "      <td>0.41</td>\n",
              "      <td>5.04</td>\n",
              "      <td>0.00</td>\n",
              "      <td>36</td>\n",
              "      <td>10</td>\n",
              "      <td>221</td>\n",
              "      <td>773</td>\n",
              "      <td>1863</td>\n",
              "    </tr>\n",
              "    <tr>\n",
              "      <th>...</th>\n",
              "      <td>...</td>\n",
              "      <td>...</td>\n",
              "      <td>...</td>\n",
              "      <td>...</td>\n",
              "      <td>...</td>\n",
              "      <td>...</td>\n",
              "      <td>...</td>\n",
              "      <td>...</td>\n",
              "      <td>...</td>\n",
              "      <td>...</td>\n",
              "      <td>...</td>\n",
              "      <td>...</td>\n",
              "      <td>...</td>\n",
              "      <td>...</td>\n",
              "      <td>...</td>\n",
              "    </tr>\n",
              "    <tr>\n",
              "      <th>935</th>\n",
              "      <td>8877689391</td>\n",
              "      <td>5/8/2016</td>\n",
              "      <td>10686</td>\n",
              "      <td>8.110000</td>\n",
              "      <td>8.110000</td>\n",
              "      <td>0.0</td>\n",
              "      <td>1.08</td>\n",
              "      <td>0.20</td>\n",
              "      <td>6.80</td>\n",
              "      <td>0.00</td>\n",
              "      <td>17</td>\n",
              "      <td>4</td>\n",
              "      <td>245</td>\n",
              "      <td>1174</td>\n",
              "      <td>2847</td>\n",
              "    </tr>\n",
              "    <tr>\n",
              "      <th>936</th>\n",
              "      <td>8877689391</td>\n",
              "      <td>5/9/2016</td>\n",
              "      <td>20226</td>\n",
              "      <td>18.250000</td>\n",
              "      <td>18.250000</td>\n",
              "      <td>0.0</td>\n",
              "      <td>11.10</td>\n",
              "      <td>0.80</td>\n",
              "      <td>6.24</td>\n",
              "      <td>0.05</td>\n",
              "      <td>73</td>\n",
              "      <td>19</td>\n",
              "      <td>217</td>\n",
              "      <td>1131</td>\n",
              "      <td>3710</td>\n",
              "    </tr>\n",
              "    <tr>\n",
              "      <th>937</th>\n",
              "      <td>8877689391</td>\n",
              "      <td>5/10/2016</td>\n",
              "      <td>10733</td>\n",
              "      <td>8.150000</td>\n",
              "      <td>8.150000</td>\n",
              "      <td>0.0</td>\n",
              "      <td>1.35</td>\n",
              "      <td>0.46</td>\n",
              "      <td>6.28</td>\n",
              "      <td>0.00</td>\n",
              "      <td>18</td>\n",
              "      <td>11</td>\n",
              "      <td>224</td>\n",
              "      <td>1187</td>\n",
              "      <td>2832</td>\n",
              "    </tr>\n",
              "    <tr>\n",
              "      <th>938</th>\n",
              "      <td>8877689391</td>\n",
              "      <td>5/11/2016</td>\n",
              "      <td>21420</td>\n",
              "      <td>19.559999</td>\n",
              "      <td>19.559999</td>\n",
              "      <td>0.0</td>\n",
              "      <td>13.22</td>\n",
              "      <td>0.41</td>\n",
              "      <td>5.89</td>\n",
              "      <td>0.00</td>\n",
              "      <td>88</td>\n",
              "      <td>12</td>\n",
              "      <td>213</td>\n",
              "      <td>1127</td>\n",
              "      <td>3832</td>\n",
              "    </tr>\n",
              "    <tr>\n",
              "      <th>939</th>\n",
              "      <td>8877689391</td>\n",
              "      <td>5/12/2016</td>\n",
              "      <td>8064</td>\n",
              "      <td>6.120000</td>\n",
              "      <td>6.120000</td>\n",
              "      <td>0.0</td>\n",
              "      <td>1.82</td>\n",
              "      <td>0.04</td>\n",
              "      <td>4.25</td>\n",
              "      <td>0.00</td>\n",
              "      <td>23</td>\n",
              "      <td>1</td>\n",
              "      <td>137</td>\n",
              "      <td>770</td>\n",
              "      <td>1849</td>\n",
              "    </tr>\n",
              "  </tbody>\n",
              "</table>\n",
              "<p>940 rows × 15 columns</p>\n",
              "</div>"
            ],
            "text/plain": [
              "             Id ActivityDate  ...  SedentaryMinutes  Calories\n",
              "0    1503960366    4/12/2016  ...               728      1985\n",
              "1    1503960366    4/13/2016  ...               776      1797\n",
              "2    1503960366    4/14/2016  ...              1218      1776\n",
              "3    1503960366    4/15/2016  ...               726      1745\n",
              "4    1503960366    4/16/2016  ...               773      1863\n",
              "..          ...          ...  ...               ...       ...\n",
              "935  8877689391     5/8/2016  ...              1174      2847\n",
              "936  8877689391     5/9/2016  ...              1131      3710\n",
              "937  8877689391    5/10/2016  ...              1187      2832\n",
              "938  8877689391    5/11/2016  ...              1127      3832\n",
              "939  8877689391    5/12/2016  ...               770      1849\n",
              "\n",
              "[940 rows x 15 columns]"
            ]
          },
          "metadata": {},
          "execution_count": 7
        }
      ]
    },
    {
      "cell_type": "code",
      "metadata": {
        "colab": {
          "base_uri": "https://localhost:8080/"
        },
        "id": "-3hflcJStGvP",
        "outputId": "42cfa974-5ed7-4a82-eeac-b0a29992439a"
      },
      "source": [
        "dailyActivity_df.info()"
      ],
      "execution_count": null,
      "outputs": [
        {
          "output_type": "stream",
          "name": "stdout",
          "text": [
            "<class 'pandas.core.frame.DataFrame'>\n",
            "RangeIndex: 940 entries, 0 to 939\n",
            "Data columns (total 15 columns):\n",
            " #   Column                    Non-Null Count  Dtype  \n",
            "---  ------                    --------------  -----  \n",
            " 0   Id                        940 non-null    int64  \n",
            " 1   ActivityDate              940 non-null    object \n",
            " 2   TotalSteps                940 non-null    int64  \n",
            " 3   TotalDistance             940 non-null    float64\n",
            " 4   TrackerDistance           940 non-null    float64\n",
            " 5   LoggedActivitiesDistance  940 non-null    float64\n",
            " 6   VeryActiveDistance        940 non-null    float64\n",
            " 7   ModeratelyActiveDistance  940 non-null    float64\n",
            " 8   LightActiveDistance       940 non-null    float64\n",
            " 9   SedentaryActiveDistance   940 non-null    float64\n",
            " 10  VeryActiveMinutes         940 non-null    int64  \n",
            " 11  FairlyActiveMinutes       940 non-null    int64  \n",
            " 12  LightlyActiveMinutes      940 non-null    int64  \n",
            " 13  SedentaryMinutes          940 non-null    int64  \n",
            " 14  Calories                  940 non-null    int64  \n",
            "dtypes: float64(7), int64(7), object(1)\n",
            "memory usage: 110.3+ KB\n"
          ]
        }
      ]
    },
    {
      "cell_type": "code",
      "metadata": {
        "colab": {
          "base_uri": "https://localhost:8080/",
          "height": 317
        },
        "id": "nk22cuSmw38v",
        "outputId": "1225189a-8ed4-4bb9-ac42-bbbbb2332df4"
      },
      "source": [
        "dailyActivity_df.describe()"
      ],
      "execution_count": null,
      "outputs": [
        {
          "output_type": "execute_result",
          "data": {
            "text/html": [
              "<div>\n",
              "<style scoped>\n",
              "    .dataframe tbody tr th:only-of-type {\n",
              "        vertical-align: middle;\n",
              "    }\n",
              "\n",
              "    .dataframe tbody tr th {\n",
              "        vertical-align: top;\n",
              "    }\n",
              "\n",
              "    .dataframe thead th {\n",
              "        text-align: right;\n",
              "    }\n",
              "</style>\n",
              "<table border=\"1\" class=\"dataframe\">\n",
              "  <thead>\n",
              "    <tr style=\"text-align: right;\">\n",
              "      <th></th>\n",
              "      <th>Id</th>\n",
              "      <th>TotalSteps</th>\n",
              "      <th>TotalDistance</th>\n",
              "      <th>TrackerDistance</th>\n",
              "      <th>LoggedActivitiesDistance</th>\n",
              "      <th>VeryActiveDistance</th>\n",
              "      <th>ModeratelyActiveDistance</th>\n",
              "      <th>LightActiveDistance</th>\n",
              "      <th>SedentaryActiveDistance</th>\n",
              "      <th>VeryActiveMinutes</th>\n",
              "      <th>FairlyActiveMinutes</th>\n",
              "      <th>LightlyActiveMinutes</th>\n",
              "      <th>SedentaryMinutes</th>\n",
              "      <th>Calories</th>\n",
              "    </tr>\n",
              "  </thead>\n",
              "  <tbody>\n",
              "    <tr>\n",
              "      <th>count</th>\n",
              "      <td>9.400000e+02</td>\n",
              "      <td>940.000000</td>\n",
              "      <td>940.000000</td>\n",
              "      <td>940.000000</td>\n",
              "      <td>940.000000</td>\n",
              "      <td>940.000000</td>\n",
              "      <td>940.000000</td>\n",
              "      <td>940.000000</td>\n",
              "      <td>940.000000</td>\n",
              "      <td>940.000000</td>\n",
              "      <td>940.000000</td>\n",
              "      <td>940.000000</td>\n",
              "      <td>940.000000</td>\n",
              "      <td>940.000000</td>\n",
              "    </tr>\n",
              "    <tr>\n",
              "      <th>mean</th>\n",
              "      <td>4.855407e+09</td>\n",
              "      <td>7637.910638</td>\n",
              "      <td>5.489702</td>\n",
              "      <td>5.475351</td>\n",
              "      <td>0.108171</td>\n",
              "      <td>1.502681</td>\n",
              "      <td>0.567543</td>\n",
              "      <td>3.340819</td>\n",
              "      <td>0.001606</td>\n",
              "      <td>21.164894</td>\n",
              "      <td>13.564894</td>\n",
              "      <td>192.812766</td>\n",
              "      <td>991.210638</td>\n",
              "      <td>2303.609574</td>\n",
              "    </tr>\n",
              "    <tr>\n",
              "      <th>std</th>\n",
              "      <td>2.424805e+09</td>\n",
              "      <td>5087.150742</td>\n",
              "      <td>3.924606</td>\n",
              "      <td>3.907276</td>\n",
              "      <td>0.619897</td>\n",
              "      <td>2.658941</td>\n",
              "      <td>0.883580</td>\n",
              "      <td>2.040655</td>\n",
              "      <td>0.007346</td>\n",
              "      <td>32.844803</td>\n",
              "      <td>19.987404</td>\n",
              "      <td>109.174700</td>\n",
              "      <td>301.267437</td>\n",
              "      <td>718.166862</td>\n",
              "    </tr>\n",
              "    <tr>\n",
              "      <th>min</th>\n",
              "      <td>1.503960e+09</td>\n",
              "      <td>0.000000</td>\n",
              "      <td>0.000000</td>\n",
              "      <td>0.000000</td>\n",
              "      <td>0.000000</td>\n",
              "      <td>0.000000</td>\n",
              "      <td>0.000000</td>\n",
              "      <td>0.000000</td>\n",
              "      <td>0.000000</td>\n",
              "      <td>0.000000</td>\n",
              "      <td>0.000000</td>\n",
              "      <td>0.000000</td>\n",
              "      <td>0.000000</td>\n",
              "      <td>0.000000</td>\n",
              "    </tr>\n",
              "    <tr>\n",
              "      <th>25%</th>\n",
              "      <td>2.320127e+09</td>\n",
              "      <td>3789.750000</td>\n",
              "      <td>2.620000</td>\n",
              "      <td>2.620000</td>\n",
              "      <td>0.000000</td>\n",
              "      <td>0.000000</td>\n",
              "      <td>0.000000</td>\n",
              "      <td>1.945000</td>\n",
              "      <td>0.000000</td>\n",
              "      <td>0.000000</td>\n",
              "      <td>0.000000</td>\n",
              "      <td>127.000000</td>\n",
              "      <td>729.750000</td>\n",
              "      <td>1828.500000</td>\n",
              "    </tr>\n",
              "    <tr>\n",
              "      <th>50%</th>\n",
              "      <td>4.445115e+09</td>\n",
              "      <td>7405.500000</td>\n",
              "      <td>5.245000</td>\n",
              "      <td>5.245000</td>\n",
              "      <td>0.000000</td>\n",
              "      <td>0.210000</td>\n",
              "      <td>0.240000</td>\n",
              "      <td>3.365000</td>\n",
              "      <td>0.000000</td>\n",
              "      <td>4.000000</td>\n",
              "      <td>6.000000</td>\n",
              "      <td>199.000000</td>\n",
              "      <td>1057.500000</td>\n",
              "      <td>2134.000000</td>\n",
              "    </tr>\n",
              "    <tr>\n",
              "      <th>75%</th>\n",
              "      <td>6.962181e+09</td>\n",
              "      <td>10727.000000</td>\n",
              "      <td>7.712500</td>\n",
              "      <td>7.710000</td>\n",
              "      <td>0.000000</td>\n",
              "      <td>2.052500</td>\n",
              "      <td>0.800000</td>\n",
              "      <td>4.782500</td>\n",
              "      <td>0.000000</td>\n",
              "      <td>32.000000</td>\n",
              "      <td>19.000000</td>\n",
              "      <td>264.000000</td>\n",
              "      <td>1229.500000</td>\n",
              "      <td>2793.250000</td>\n",
              "    </tr>\n",
              "    <tr>\n",
              "      <th>max</th>\n",
              "      <td>8.877689e+09</td>\n",
              "      <td>36019.000000</td>\n",
              "      <td>28.030001</td>\n",
              "      <td>28.030001</td>\n",
              "      <td>4.942142</td>\n",
              "      <td>21.920000</td>\n",
              "      <td>6.480000</td>\n",
              "      <td>10.710000</td>\n",
              "      <td>0.110000</td>\n",
              "      <td>210.000000</td>\n",
              "      <td>143.000000</td>\n",
              "      <td>518.000000</td>\n",
              "      <td>1440.000000</td>\n",
              "      <td>4900.000000</td>\n",
              "    </tr>\n",
              "  </tbody>\n",
              "</table>\n",
              "</div>"
            ],
            "text/plain": [
              "                 Id    TotalSteps  ...  SedentaryMinutes     Calories\n",
              "count  9.400000e+02    940.000000  ...        940.000000   940.000000\n",
              "mean   4.855407e+09   7637.910638  ...        991.210638  2303.609574\n",
              "std    2.424805e+09   5087.150742  ...        301.267437   718.166862\n",
              "min    1.503960e+09      0.000000  ...          0.000000     0.000000\n",
              "25%    2.320127e+09   3789.750000  ...        729.750000  1828.500000\n",
              "50%    4.445115e+09   7405.500000  ...       1057.500000  2134.000000\n",
              "75%    6.962181e+09  10727.000000  ...       1229.500000  2793.250000\n",
              "max    8.877689e+09  36019.000000  ...       1440.000000  4900.000000\n",
              "\n",
              "[8 rows x 14 columns]"
            ]
          },
          "metadata": {},
          "execution_count": 9
        }
      ]
    },
    {
      "cell_type": "code",
      "metadata": {
        "colab": {
          "base_uri": "https://localhost:8080/"
        },
        "id": "8JNNJ9BNw34J",
        "outputId": "b51569c8-305b-467d-e225-8865f282513d"
      },
      "source": [
        "numerics = ['int16', 'int32', 'int64', 'float16', 'float32', 'float64']\n",
        "\n",
        "numerics_df = dailyActivity_df.select_dtypes(include=numerics)\n",
        "\n",
        "len(numerics_df.columns)"
      ],
      "execution_count": null,
      "outputs": [
        {
          "output_type": "execute_result",
          "data": {
            "text/plain": [
              "14"
            ]
          },
          "metadata": {},
          "execution_count": 10
        }
      ]
    },
    {
      "cell_type": "code",
      "metadata": {
        "colab": {
          "base_uri": "https://localhost:8080/"
        },
        "id": "KYMEhftRyCIp",
        "outputId": "c0378b28-3750-4087-fcd2-95e44f8bab86"
      },
      "source": [
        "count_of_missing_values = dailyActivity_df.isna().sum().sort_values(ascending=False)\n",
        "count_of_missing_values"
      ],
      "execution_count": null,
      "outputs": [
        {
          "output_type": "execute_result",
          "data": {
            "text/plain": [
              "Calories                    0\n",
              "SedentaryMinutes            0\n",
              "LightlyActiveMinutes        0\n",
              "FairlyActiveMinutes         0\n",
              "VeryActiveMinutes           0\n",
              "SedentaryActiveDistance     0\n",
              "LightActiveDistance         0\n",
              "ModeratelyActiveDistance    0\n",
              "VeryActiveDistance          0\n",
              "LoggedActivitiesDistance    0\n",
              "TrackerDistance             0\n",
              "TotalDistance               0\n",
              "TotalSteps                  0\n",
              "ActivityDate                0\n",
              "Id                          0\n",
              "dtype: int64"
            ]
          },
          "metadata": {},
          "execution_count": 11
        }
      ]
    },
    {
      "cell_type": "markdown",
      "metadata": {
        "id": "S5FLwFEDDeJh"
      },
      "source": [
        "## Sleep Day Dataset"
      ]
    },
    {
      "cell_type": "code",
      "metadata": {
        "id": "7GZ6Wd-UJ_47"
      },
      "source": [
        "sleepDay_filename = './fitbit/Fitabase Data 4.12.16-5.12.16/sleepDay_merged.csv'"
      ],
      "execution_count": null,
      "outputs": []
    },
    {
      "cell_type": "code",
      "metadata": {
        "id": "CNKsZ_nOKJSw"
      },
      "source": [
        "sleepDay_df = pd.read_csv(sleepDay_filename)"
      ],
      "execution_count": null,
      "outputs": []
    },
    {
      "cell_type": "code",
      "metadata": {
        "colab": {
          "base_uri": "https://localhost:8080/",
          "height": 419
        },
        "id": "MLC2gIRYKWYO",
        "outputId": "a9895c21-9892-4fda-fdeb-6ebaa3373c13"
      },
      "source": [
        "sleepDay_df"
      ],
      "execution_count": null,
      "outputs": [
        {
          "output_type": "execute_result",
          "data": {
            "text/html": [
              "<div>\n",
              "<style scoped>\n",
              "    .dataframe tbody tr th:only-of-type {\n",
              "        vertical-align: middle;\n",
              "    }\n",
              "\n",
              "    .dataframe tbody tr th {\n",
              "        vertical-align: top;\n",
              "    }\n",
              "\n",
              "    .dataframe thead th {\n",
              "        text-align: right;\n",
              "    }\n",
              "</style>\n",
              "<table border=\"1\" class=\"dataframe\">\n",
              "  <thead>\n",
              "    <tr style=\"text-align: right;\">\n",
              "      <th></th>\n",
              "      <th>Id</th>\n",
              "      <th>SleepDay</th>\n",
              "      <th>TotalSleepRecords</th>\n",
              "      <th>TotalMinutesAsleep</th>\n",
              "      <th>TotalTimeInBed</th>\n",
              "    </tr>\n",
              "  </thead>\n",
              "  <tbody>\n",
              "    <tr>\n",
              "      <th>0</th>\n",
              "      <td>1503960366</td>\n",
              "      <td>4/12/2016 12:00:00 AM</td>\n",
              "      <td>1</td>\n",
              "      <td>327</td>\n",
              "      <td>346</td>\n",
              "    </tr>\n",
              "    <tr>\n",
              "      <th>1</th>\n",
              "      <td>1503960366</td>\n",
              "      <td>4/13/2016 12:00:00 AM</td>\n",
              "      <td>2</td>\n",
              "      <td>384</td>\n",
              "      <td>407</td>\n",
              "    </tr>\n",
              "    <tr>\n",
              "      <th>2</th>\n",
              "      <td>1503960366</td>\n",
              "      <td>4/15/2016 12:00:00 AM</td>\n",
              "      <td>1</td>\n",
              "      <td>412</td>\n",
              "      <td>442</td>\n",
              "    </tr>\n",
              "    <tr>\n",
              "      <th>3</th>\n",
              "      <td>1503960366</td>\n",
              "      <td>4/16/2016 12:00:00 AM</td>\n",
              "      <td>2</td>\n",
              "      <td>340</td>\n",
              "      <td>367</td>\n",
              "    </tr>\n",
              "    <tr>\n",
              "      <th>4</th>\n",
              "      <td>1503960366</td>\n",
              "      <td>4/17/2016 12:00:00 AM</td>\n",
              "      <td>1</td>\n",
              "      <td>700</td>\n",
              "      <td>712</td>\n",
              "    </tr>\n",
              "    <tr>\n",
              "      <th>...</th>\n",
              "      <td>...</td>\n",
              "      <td>...</td>\n",
              "      <td>...</td>\n",
              "      <td>...</td>\n",
              "      <td>...</td>\n",
              "    </tr>\n",
              "    <tr>\n",
              "      <th>408</th>\n",
              "      <td>8792009665</td>\n",
              "      <td>4/30/2016 12:00:00 AM</td>\n",
              "      <td>1</td>\n",
              "      <td>343</td>\n",
              "      <td>360</td>\n",
              "    </tr>\n",
              "    <tr>\n",
              "      <th>409</th>\n",
              "      <td>8792009665</td>\n",
              "      <td>5/1/2016 12:00:00 AM</td>\n",
              "      <td>1</td>\n",
              "      <td>503</td>\n",
              "      <td>527</td>\n",
              "    </tr>\n",
              "    <tr>\n",
              "      <th>410</th>\n",
              "      <td>8792009665</td>\n",
              "      <td>5/2/2016 12:00:00 AM</td>\n",
              "      <td>1</td>\n",
              "      <td>415</td>\n",
              "      <td>423</td>\n",
              "    </tr>\n",
              "    <tr>\n",
              "      <th>411</th>\n",
              "      <td>8792009665</td>\n",
              "      <td>5/3/2016 12:00:00 AM</td>\n",
              "      <td>1</td>\n",
              "      <td>516</td>\n",
              "      <td>545</td>\n",
              "    </tr>\n",
              "    <tr>\n",
              "      <th>412</th>\n",
              "      <td>8792009665</td>\n",
              "      <td>5/4/2016 12:00:00 AM</td>\n",
              "      <td>1</td>\n",
              "      <td>439</td>\n",
              "      <td>463</td>\n",
              "    </tr>\n",
              "  </tbody>\n",
              "</table>\n",
              "<p>413 rows × 5 columns</p>\n",
              "</div>"
            ],
            "text/plain": [
              "             Id               SleepDay  ...  TotalMinutesAsleep  TotalTimeInBed\n",
              "0    1503960366  4/12/2016 12:00:00 AM  ...                 327             346\n",
              "1    1503960366  4/13/2016 12:00:00 AM  ...                 384             407\n",
              "2    1503960366  4/15/2016 12:00:00 AM  ...                 412             442\n",
              "3    1503960366  4/16/2016 12:00:00 AM  ...                 340             367\n",
              "4    1503960366  4/17/2016 12:00:00 AM  ...                 700             712\n",
              "..          ...                    ...  ...                 ...             ...\n",
              "408  8792009665  4/30/2016 12:00:00 AM  ...                 343             360\n",
              "409  8792009665   5/1/2016 12:00:00 AM  ...                 503             527\n",
              "410  8792009665   5/2/2016 12:00:00 AM  ...                 415             423\n",
              "411  8792009665   5/3/2016 12:00:00 AM  ...                 516             545\n",
              "412  8792009665   5/4/2016 12:00:00 AM  ...                 439             463\n",
              "\n",
              "[413 rows x 5 columns]"
            ]
          },
          "metadata": {},
          "execution_count": 14
        }
      ]
    },
    {
      "cell_type": "code",
      "metadata": {
        "colab": {
          "base_uri": "https://localhost:8080/"
        },
        "id": "MkRAwcv7Krb6",
        "outputId": "7e00f359-3e0a-47ab-ccd7-517e3a524db9"
      },
      "source": [
        "sleepDay_df.info()"
      ],
      "execution_count": null,
      "outputs": [
        {
          "output_type": "stream",
          "name": "stdout",
          "text": [
            "<class 'pandas.core.frame.DataFrame'>\n",
            "RangeIndex: 413 entries, 0 to 412\n",
            "Data columns (total 5 columns):\n",
            " #   Column              Non-Null Count  Dtype \n",
            "---  ------              --------------  ----- \n",
            " 0   Id                  413 non-null    int64 \n",
            " 1   SleepDay            413 non-null    object\n",
            " 2   TotalSleepRecords   413 non-null    int64 \n",
            " 3   TotalMinutesAsleep  413 non-null    int64 \n",
            " 4   TotalTimeInBed      413 non-null    int64 \n",
            "dtypes: int64(4), object(1)\n",
            "memory usage: 16.3+ KB\n"
          ]
        }
      ]
    },
    {
      "cell_type": "code",
      "metadata": {
        "colab": {
          "base_uri": "https://localhost:8080/",
          "height": 297
        },
        "id": "pqjdtODUKrZ9",
        "outputId": "2cfb78e9-8de4-4903-adba-5c4e207d6293"
      },
      "source": [
        "sleepDay_df.describe()"
      ],
      "execution_count": null,
      "outputs": [
        {
          "output_type": "execute_result",
          "data": {
            "text/html": [
              "<div>\n",
              "<style scoped>\n",
              "    .dataframe tbody tr th:only-of-type {\n",
              "        vertical-align: middle;\n",
              "    }\n",
              "\n",
              "    .dataframe tbody tr th {\n",
              "        vertical-align: top;\n",
              "    }\n",
              "\n",
              "    .dataframe thead th {\n",
              "        text-align: right;\n",
              "    }\n",
              "</style>\n",
              "<table border=\"1\" class=\"dataframe\">\n",
              "  <thead>\n",
              "    <tr style=\"text-align: right;\">\n",
              "      <th></th>\n",
              "      <th>Id</th>\n",
              "      <th>TotalSleepRecords</th>\n",
              "      <th>TotalMinutesAsleep</th>\n",
              "      <th>TotalTimeInBed</th>\n",
              "    </tr>\n",
              "  </thead>\n",
              "  <tbody>\n",
              "    <tr>\n",
              "      <th>count</th>\n",
              "      <td>4.130000e+02</td>\n",
              "      <td>413.000000</td>\n",
              "      <td>413.000000</td>\n",
              "      <td>413.000000</td>\n",
              "    </tr>\n",
              "    <tr>\n",
              "      <th>mean</th>\n",
              "      <td>5.000979e+09</td>\n",
              "      <td>1.118644</td>\n",
              "      <td>419.467312</td>\n",
              "      <td>458.639225</td>\n",
              "    </tr>\n",
              "    <tr>\n",
              "      <th>std</th>\n",
              "      <td>2.060360e+09</td>\n",
              "      <td>0.345521</td>\n",
              "      <td>118.344679</td>\n",
              "      <td>127.101607</td>\n",
              "    </tr>\n",
              "    <tr>\n",
              "      <th>min</th>\n",
              "      <td>1.503960e+09</td>\n",
              "      <td>1.000000</td>\n",
              "      <td>58.000000</td>\n",
              "      <td>61.000000</td>\n",
              "    </tr>\n",
              "    <tr>\n",
              "      <th>25%</th>\n",
              "      <td>3.977334e+09</td>\n",
              "      <td>1.000000</td>\n",
              "      <td>361.000000</td>\n",
              "      <td>403.000000</td>\n",
              "    </tr>\n",
              "    <tr>\n",
              "      <th>50%</th>\n",
              "      <td>4.702922e+09</td>\n",
              "      <td>1.000000</td>\n",
              "      <td>433.000000</td>\n",
              "      <td>463.000000</td>\n",
              "    </tr>\n",
              "    <tr>\n",
              "      <th>75%</th>\n",
              "      <td>6.962181e+09</td>\n",
              "      <td>1.000000</td>\n",
              "      <td>490.000000</td>\n",
              "      <td>526.000000</td>\n",
              "    </tr>\n",
              "    <tr>\n",
              "      <th>max</th>\n",
              "      <td>8.792010e+09</td>\n",
              "      <td>3.000000</td>\n",
              "      <td>796.000000</td>\n",
              "      <td>961.000000</td>\n",
              "    </tr>\n",
              "  </tbody>\n",
              "</table>\n",
              "</div>"
            ],
            "text/plain": [
              "                 Id  TotalSleepRecords  TotalMinutesAsleep  TotalTimeInBed\n",
              "count  4.130000e+02         413.000000          413.000000      413.000000\n",
              "mean   5.000979e+09           1.118644          419.467312      458.639225\n",
              "std    2.060360e+09           0.345521          118.344679      127.101607\n",
              "min    1.503960e+09           1.000000           58.000000       61.000000\n",
              "25%    3.977334e+09           1.000000          361.000000      403.000000\n",
              "50%    4.702922e+09           1.000000          433.000000      463.000000\n",
              "75%    6.962181e+09           1.000000          490.000000      526.000000\n",
              "max    8.792010e+09           3.000000          796.000000      961.000000"
            ]
          },
          "metadata": {},
          "execution_count": 16
        }
      ]
    },
    {
      "cell_type": "code",
      "metadata": {
        "colab": {
          "base_uri": "https://localhost:8080/"
        },
        "id": "Sdu5ASxPKrWo",
        "outputId": "b3a93fb7-a257-4aa0-b4a9-50372cd25191"
      },
      "source": [
        "count_of_missing_values = sleepDay_df.isna().sum().sort_values(ascending=False)\n",
        "count_of_missing_values"
      ],
      "execution_count": null,
      "outputs": [
        {
          "output_type": "execute_result",
          "data": {
            "text/plain": [
              "TotalTimeInBed        0\n",
              "TotalMinutesAsleep    0\n",
              "TotalSleepRecords     0\n",
              "SleepDay              0\n",
              "Id                    0\n",
              "dtype: int64"
            ]
          },
          "metadata": {},
          "execution_count": 17
        }
      ]
    },
    {
      "cell_type": "markdown",
      "metadata": {
        "id": "2AOooCLUhvuz"
      },
      "source": [
        "## Heartrate Seconds Dataset"
      ]
    },
    {
      "cell_type": "code",
      "metadata": {
        "id": "O6jW3zGUh-DF"
      },
      "source": [
        "heartrate_secs_filename = './fitbit/Fitabase Data 4.12.16-5.12.16/heartrate_seconds_merged.csv'"
      ],
      "execution_count": null,
      "outputs": []
    },
    {
      "cell_type": "code",
      "metadata": {
        "id": "JGgxe3I5iJik"
      },
      "source": [
        "heartrate_secs_df = pd.read_csv(heartrate_secs_filename)"
      ],
      "execution_count": null,
      "outputs": []
    },
    {
      "cell_type": "code",
      "metadata": {
        "id": "2LjbTCQUiR-R"
      },
      "source": [
        "heartrate_secs_df"
      ],
      "execution_count": null,
      "outputs": []
    },
    {
      "cell_type": "code",
      "metadata": {
        "colab": {
          "base_uri": "https://localhost:8080/"
        },
        "id": "gjIKr40gilKz",
        "outputId": "6be53c27-66f6-4f8b-f817-b99027401a93"
      },
      "source": [
        "heartrate_secs_df.info()"
      ],
      "execution_count": null,
      "outputs": [
        {
          "output_type": "stream",
          "name": "stdout",
          "text": [
            "<class 'pandas.core.frame.DataFrame'>\n",
            "RangeIndex: 2483658 entries, 0 to 2483657\n",
            "Data columns (total 3 columns):\n",
            " #   Column  Dtype \n",
            "---  ------  ----- \n",
            " 0   Id      int64 \n",
            " 1   Time    object\n",
            " 2   Value   int64 \n",
            "dtypes: int64(2), object(1)\n",
            "memory usage: 56.8+ MB\n"
          ]
        }
      ]
    },
    {
      "cell_type": "code",
      "metadata": {
        "colab": {
          "base_uri": "https://localhost:8080/"
        },
        "id": "DPPc7vYMkKhP",
        "outputId": "5f069874-4690-4241-f23f-b236b6234bbb"
      },
      "source": [
        "count_of_missing_values = heartrate_secs_df.isna().sum().sort_values(ascending=False)\n",
        "count_of_missing_values"
      ],
      "execution_count": null,
      "outputs": [
        {
          "output_type": "execute_result",
          "data": {
            "text/plain": [
              "Value    0\n",
              "Time     0\n",
              "Id       0\n",
              "dtype: int64"
            ]
          },
          "metadata": {},
          "execution_count": 100
        }
      ]
    },
    {
      "cell_type": "code",
      "metadata": {
        "colab": {
          "base_uri": "https://localhost:8080/"
        },
        "id": "QIa41IyVjZZ4",
        "outputId": "895c76f1-4027-4fdf-9ee2-3629ff390263"
      },
      "source": [
        "len(heartrate_secs_df.index)"
      ],
      "execution_count": null,
      "outputs": [
        {
          "output_type": "execute_result",
          "data": {
            "text/plain": [
              "2483658"
            ]
          },
          "metadata": {},
          "execution_count": 97
        }
      ]
    },
    {
      "cell_type": "code",
      "metadata": {
        "colab": {
          "base_uri": "https://localhost:8080/"
        },
        "id": "iqnl0pV4ilG7",
        "outputId": "8d9d2e63-93ea-43f2-df46-db7c557a7f18"
      },
      "source": [
        "heartrate_secs_df.Value.describe()"
      ],
      "execution_count": null,
      "outputs": [
        {
          "output_type": "execute_result",
          "data": {
            "text/plain": [
              "count    2.483658e+06\n",
              "mean     7.732842e+01\n",
              "std      1.940450e+01\n",
              "min      3.600000e+01\n",
              "25%      6.300000e+01\n",
              "50%      7.300000e+01\n",
              "75%      8.800000e+01\n",
              "max      2.030000e+02\n",
              "Name: Value, dtype: float64"
            ]
          },
          "metadata": {},
          "execution_count": 99
        }
      ]
    },
    {
      "cell_type": "code",
      "metadata": {
        "id": "czM0VwzUik-j"
      },
      "source": [
        "#Convert Time from String to DateTime\n",
        "\n",
        "heartrate_secs_df.Time = pd.to_datetime(heartrate_secs_df.Time)"
      ],
      "execution_count": null,
      "outputs": []
    },
    {
      "cell_type": "code",
      "metadata": {
        "colab": {
          "base_uri": "https://localhost:8080/"
        },
        "id": "EwbMCGxqlkO-",
        "outputId": "ae693612-cc55-4906-82fb-767d6fcd72c1"
      },
      "source": [
        "heartrate_secs_df.Time[0]"
      ],
      "execution_count": null,
      "outputs": [
        {
          "output_type": "execute_result",
          "data": {
            "text/plain": [
              "Timestamp('2016-04-12 07:21:00')"
            ]
          },
          "metadata": {},
          "execution_count": 102
        }
      ]
    },
    {
      "cell_type": "markdown",
      "metadata": {
        "id": "tQhkHI5fhEIH"
      },
      "source": [
        "## Minute METS Dataset\n",
        "\n",
        "- A MET is a ratio of your working metabolic rate relative to your resting metabolic rate. Metabolic rate is the rate of energy expended per unit of time. It’s one way to describe the intensity of an exercise or activity. One MET is the energy you spend sitting at rest — your resting or basal metabolic rate. So, an activity with a MET value of 4 means you’re exerting four times the energy than you would if you were sitting still.\n",
        "\n",
        "- To put it in perspective, a brisk walk at 3 or 4 miles per hour has a value of 4 METs. Jumping rope, which is a more vigorous activity, has a MET value of 12.3."
      ]
    },
    {
      "cell_type": "code",
      "metadata": {
        "id": "epsjuR0ig2Rf"
      },
      "source": [
        "minute_METS_filename = './fitbit/Fitabase Data 4.12.16-5.12.16/minuteMETsNarrow_merged.csv'"
      ],
      "execution_count": null,
      "outputs": []
    },
    {
      "cell_type": "code",
      "metadata": {
        "id": "TaK41LOShkWW"
      },
      "source": [
        "minute_METS_df = pd.read_csv(minute_METS_filename)"
      ],
      "execution_count": null,
      "outputs": []
    },
    {
      "cell_type": "code",
      "metadata": {
        "colab": {
          "base_uri": "https://localhost:8080/",
          "height": 419
        },
        "id": "zVKBZc0lhw1_",
        "outputId": "eb9f29ff-2ddc-4d00-a8ef-e5993f05369b"
      },
      "source": [
        "minute_METS_df"
      ],
      "execution_count": null,
      "outputs": [
        {
          "output_type": "execute_result",
          "data": {
            "text/html": [
              "<div>\n",
              "<style scoped>\n",
              "    .dataframe tbody tr th:only-of-type {\n",
              "        vertical-align: middle;\n",
              "    }\n",
              "\n",
              "    .dataframe tbody tr th {\n",
              "        vertical-align: top;\n",
              "    }\n",
              "\n",
              "    .dataframe thead th {\n",
              "        text-align: right;\n",
              "    }\n",
              "</style>\n",
              "<table border=\"1\" class=\"dataframe\">\n",
              "  <thead>\n",
              "    <tr style=\"text-align: right;\">\n",
              "      <th></th>\n",
              "      <th>Id</th>\n",
              "      <th>ActivityMinute</th>\n",
              "      <th>METs</th>\n",
              "    </tr>\n",
              "  </thead>\n",
              "  <tbody>\n",
              "    <tr>\n",
              "      <th>0</th>\n",
              "      <td>1503960366</td>\n",
              "      <td>4/12/2016 12:00:00 AM</td>\n",
              "      <td>10</td>\n",
              "    </tr>\n",
              "    <tr>\n",
              "      <th>1</th>\n",
              "      <td>1503960366</td>\n",
              "      <td>4/12/2016 12:01:00 AM</td>\n",
              "      <td>10</td>\n",
              "    </tr>\n",
              "    <tr>\n",
              "      <th>2</th>\n",
              "      <td>1503960366</td>\n",
              "      <td>4/12/2016 12:02:00 AM</td>\n",
              "      <td>10</td>\n",
              "    </tr>\n",
              "    <tr>\n",
              "      <th>3</th>\n",
              "      <td>1503960366</td>\n",
              "      <td>4/12/2016 12:03:00 AM</td>\n",
              "      <td>10</td>\n",
              "    </tr>\n",
              "    <tr>\n",
              "      <th>4</th>\n",
              "      <td>1503960366</td>\n",
              "      <td>4/12/2016 12:04:00 AM</td>\n",
              "      <td>10</td>\n",
              "    </tr>\n",
              "    <tr>\n",
              "      <th>...</th>\n",
              "      <td>...</td>\n",
              "      <td>...</td>\n",
              "      <td>...</td>\n",
              "    </tr>\n",
              "    <tr>\n",
              "      <th>1325575</th>\n",
              "      <td>8877689391</td>\n",
              "      <td>5/12/2016 1:55:00 PM</td>\n",
              "      <td>11</td>\n",
              "    </tr>\n",
              "    <tr>\n",
              "      <th>1325576</th>\n",
              "      <td>8877689391</td>\n",
              "      <td>5/12/2016 1:56:00 PM</td>\n",
              "      <td>11</td>\n",
              "    </tr>\n",
              "    <tr>\n",
              "      <th>1325577</th>\n",
              "      <td>8877689391</td>\n",
              "      <td>5/12/2016 1:57:00 PM</td>\n",
              "      <td>11</td>\n",
              "    </tr>\n",
              "    <tr>\n",
              "      <th>1325578</th>\n",
              "      <td>8877689391</td>\n",
              "      <td>5/12/2016 1:58:00 PM</td>\n",
              "      <td>11</td>\n",
              "    </tr>\n",
              "    <tr>\n",
              "      <th>1325579</th>\n",
              "      <td>8877689391</td>\n",
              "      <td>5/12/2016 1:59:00 PM</td>\n",
              "      <td>11</td>\n",
              "    </tr>\n",
              "  </tbody>\n",
              "</table>\n",
              "<p>1325580 rows × 3 columns</p>\n",
              "</div>"
            ],
            "text/plain": [
              "                 Id         ActivityMinute  METs\n",
              "0        1503960366  4/12/2016 12:00:00 AM    10\n",
              "1        1503960366  4/12/2016 12:01:00 AM    10\n",
              "2        1503960366  4/12/2016 12:02:00 AM    10\n",
              "3        1503960366  4/12/2016 12:03:00 AM    10\n",
              "4        1503960366  4/12/2016 12:04:00 AM    10\n",
              "...             ...                    ...   ...\n",
              "1325575  8877689391   5/12/2016 1:55:00 PM    11\n",
              "1325576  8877689391   5/12/2016 1:56:00 PM    11\n",
              "1325577  8877689391   5/12/2016 1:57:00 PM    11\n",
              "1325578  8877689391   5/12/2016 1:58:00 PM    11\n",
              "1325579  8877689391   5/12/2016 1:59:00 PM    11\n",
              "\n",
              "[1325580 rows x 3 columns]"
            ]
          },
          "metadata": {},
          "execution_count": 198
        }
      ]
    },
    {
      "cell_type": "code",
      "metadata": {
        "colab": {
          "base_uri": "https://localhost:8080/"
        },
        "id": "fOaKSWe5hwzD",
        "outputId": "f872ada5-a8d8-4833-cdee-7cd7ec74a04a"
      },
      "source": [
        "minute_METS_df.info()"
      ],
      "execution_count": null,
      "outputs": [
        {
          "output_type": "stream",
          "name": "stdout",
          "text": [
            "<class 'pandas.core.frame.DataFrame'>\n",
            "RangeIndex: 1325580 entries, 0 to 1325579\n",
            "Data columns (total 3 columns):\n",
            " #   Column          Non-Null Count    Dtype \n",
            "---  ------          --------------    ----- \n",
            " 0   Id              1325580 non-null  int64 \n",
            " 1   ActivityMinute  1325580 non-null  object\n",
            " 2   METs            1325580 non-null  int64 \n",
            "dtypes: int64(2), object(1)\n",
            "memory usage: 30.3+ MB\n"
          ]
        }
      ]
    },
    {
      "cell_type": "code",
      "metadata": {
        "colab": {
          "base_uri": "https://localhost:8080/"
        },
        "id": "3CvMRGsNhwsC",
        "outputId": "182bf090-baa9-4d15-ce17-ef30b549c459"
      },
      "source": [
        "count_of_missing_values = minute_METS_df.isna().sum().sort_values(ascending=False)\n",
        "count_of_missing_values"
      ],
      "execution_count": null,
      "outputs": [
        {
          "output_type": "execute_result",
          "data": {
            "text/plain": [
              "METs              0\n",
              "ActivityMinute    0\n",
              "Id                0\n",
              "dtype: int64"
            ]
          },
          "metadata": {},
          "execution_count": 200
        }
      ]
    },
    {
      "cell_type": "code",
      "metadata": {
        "id": "4fWyEm_gi4J4"
      },
      "source": [
        "minute_METS_df.ActivityMinute = pd.to_datetime(minute_METS_df.ActivityMinute)"
      ],
      "execution_count": null,
      "outputs": []
    },
    {
      "cell_type": "code",
      "metadata": {
        "colab": {
          "base_uri": "https://localhost:8080/"
        },
        "id": "EXA_gU1nj88I",
        "outputId": "4df9e625-f1b1-4539-84bd-6d2189802f24"
      },
      "source": [
        "minute_METS_df.ActivityMinute[0]"
      ],
      "execution_count": null,
      "outputs": [
        {
          "output_type": "execute_result",
          "data": {
            "text/plain": [
              "Timestamp('2016-04-12 00:00:00')"
            ]
          },
          "metadata": {},
          "execution_count": 202
        }
      ]
    },
    {
      "cell_type": "markdown",
      "metadata": {
        "id": "Rnur6DLqoJq2"
      },
      "source": [
        "## Weight Log Info Dataset"
      ]
    },
    {
      "cell_type": "code",
      "metadata": {
        "id": "04WiwC4AoWNh"
      },
      "source": [
        "weightLogInfo_filename = './fitbit/Fitabase Data 4.12.16-5.12.16/weightLogInfo_merged.csv'"
      ],
      "execution_count": null,
      "outputs": []
    },
    {
      "cell_type": "code",
      "metadata": {
        "id": "VQlfBQoWoWES"
      },
      "source": [
        "weightLogInfo_df = pd.read_csv(weightLogInfo_filename)"
      ],
      "execution_count": null,
      "outputs": []
    },
    {
      "cell_type": "code",
      "metadata": {
        "colab": {
          "base_uri": "https://localhost:8080/",
          "height": 424
        },
        "id": "CYYUX92NoWCA",
        "outputId": "79e7b6f5-e763-4b18-ebd1-8d27b435953f"
      },
      "source": [
        "weightLogInfo_df"
      ],
      "execution_count": null,
      "outputs": [
        {
          "output_type": "execute_result",
          "data": {
            "text/html": [
              "<div>\n",
              "<style scoped>\n",
              "    .dataframe tbody tr th:only-of-type {\n",
              "        vertical-align: middle;\n",
              "    }\n",
              "\n",
              "    .dataframe tbody tr th {\n",
              "        vertical-align: top;\n",
              "    }\n",
              "\n",
              "    .dataframe thead th {\n",
              "        text-align: right;\n",
              "    }\n",
              "</style>\n",
              "<table border=\"1\" class=\"dataframe\">\n",
              "  <thead>\n",
              "    <tr style=\"text-align: right;\">\n",
              "      <th></th>\n",
              "      <th>Id</th>\n",
              "      <th>Date</th>\n",
              "      <th>WeightKg</th>\n",
              "      <th>WeightPounds</th>\n",
              "      <th>Fat</th>\n",
              "      <th>BMI</th>\n",
              "      <th>IsManualReport</th>\n",
              "      <th>LogId</th>\n",
              "    </tr>\n",
              "  </thead>\n",
              "  <tbody>\n",
              "    <tr>\n",
              "      <th>0</th>\n",
              "      <td>1503960366</td>\n",
              "      <td>5/2/2016 11:59:59 PM</td>\n",
              "      <td>52.599998</td>\n",
              "      <td>115.963147</td>\n",
              "      <td>22.0</td>\n",
              "      <td>22.650000</td>\n",
              "      <td>True</td>\n",
              "      <td>1462233599000</td>\n",
              "    </tr>\n",
              "    <tr>\n",
              "      <th>1</th>\n",
              "      <td>1503960366</td>\n",
              "      <td>5/3/2016 11:59:59 PM</td>\n",
              "      <td>52.599998</td>\n",
              "      <td>115.963147</td>\n",
              "      <td>NaN</td>\n",
              "      <td>22.650000</td>\n",
              "      <td>True</td>\n",
              "      <td>1462319999000</td>\n",
              "    </tr>\n",
              "    <tr>\n",
              "      <th>2</th>\n",
              "      <td>1927972279</td>\n",
              "      <td>4/13/2016 1:08:52 AM</td>\n",
              "      <td>133.500000</td>\n",
              "      <td>294.317120</td>\n",
              "      <td>NaN</td>\n",
              "      <td>47.540001</td>\n",
              "      <td>False</td>\n",
              "      <td>1460509732000</td>\n",
              "    </tr>\n",
              "    <tr>\n",
              "      <th>3</th>\n",
              "      <td>2873212765</td>\n",
              "      <td>4/21/2016 11:59:59 PM</td>\n",
              "      <td>56.700001</td>\n",
              "      <td>125.002104</td>\n",
              "      <td>NaN</td>\n",
              "      <td>21.450001</td>\n",
              "      <td>True</td>\n",
              "      <td>1461283199000</td>\n",
              "    </tr>\n",
              "    <tr>\n",
              "      <th>4</th>\n",
              "      <td>2873212765</td>\n",
              "      <td>5/12/2016 11:59:59 PM</td>\n",
              "      <td>57.299999</td>\n",
              "      <td>126.324875</td>\n",
              "      <td>NaN</td>\n",
              "      <td>21.690001</td>\n",
              "      <td>True</td>\n",
              "      <td>1463097599000</td>\n",
              "    </tr>\n",
              "    <tr>\n",
              "      <th>...</th>\n",
              "      <td>...</td>\n",
              "      <td>...</td>\n",
              "      <td>...</td>\n",
              "      <td>...</td>\n",
              "      <td>...</td>\n",
              "      <td>...</td>\n",
              "      <td>...</td>\n",
              "      <td>...</td>\n",
              "    </tr>\n",
              "    <tr>\n",
              "      <th>62</th>\n",
              "      <td>8877689391</td>\n",
              "      <td>5/6/2016 6:43:35 AM</td>\n",
              "      <td>85.000000</td>\n",
              "      <td>187.392923</td>\n",
              "      <td>NaN</td>\n",
              "      <td>25.440001</td>\n",
              "      <td>False</td>\n",
              "      <td>1462517015000</td>\n",
              "    </tr>\n",
              "    <tr>\n",
              "      <th>63</th>\n",
              "      <td>8877689391</td>\n",
              "      <td>5/8/2016 7:35:53 AM</td>\n",
              "      <td>85.400002</td>\n",
              "      <td>188.274775</td>\n",
              "      <td>NaN</td>\n",
              "      <td>25.559999</td>\n",
              "      <td>False</td>\n",
              "      <td>1462692953000</td>\n",
              "    </tr>\n",
              "    <tr>\n",
              "      <th>64</th>\n",
              "      <td>8877689391</td>\n",
              "      <td>5/9/2016 6:39:44 AM</td>\n",
              "      <td>85.500000</td>\n",
              "      <td>188.495234</td>\n",
              "      <td>NaN</td>\n",
              "      <td>25.610001</td>\n",
              "      <td>False</td>\n",
              "      <td>1462775984000</td>\n",
              "    </tr>\n",
              "    <tr>\n",
              "      <th>65</th>\n",
              "      <td>8877689391</td>\n",
              "      <td>5/11/2016 6:51:47 AM</td>\n",
              "      <td>85.400002</td>\n",
              "      <td>188.274775</td>\n",
              "      <td>NaN</td>\n",
              "      <td>25.559999</td>\n",
              "      <td>False</td>\n",
              "      <td>1462949507000</td>\n",
              "    </tr>\n",
              "    <tr>\n",
              "      <th>66</th>\n",
              "      <td>8877689391</td>\n",
              "      <td>5/12/2016 6:42:53 AM</td>\n",
              "      <td>84.000000</td>\n",
              "      <td>185.188300</td>\n",
              "      <td>NaN</td>\n",
              "      <td>25.139999</td>\n",
              "      <td>False</td>\n",
              "      <td>1463035373000</td>\n",
              "    </tr>\n",
              "  </tbody>\n",
              "</table>\n",
              "<p>67 rows × 8 columns</p>\n",
              "</div>"
            ],
            "text/plain": [
              "            Id                   Date  ...  IsManualReport          LogId\n",
              "0   1503960366   5/2/2016 11:59:59 PM  ...            True  1462233599000\n",
              "1   1503960366   5/3/2016 11:59:59 PM  ...            True  1462319999000\n",
              "2   1927972279   4/13/2016 1:08:52 AM  ...           False  1460509732000\n",
              "3   2873212765  4/21/2016 11:59:59 PM  ...            True  1461283199000\n",
              "4   2873212765  5/12/2016 11:59:59 PM  ...            True  1463097599000\n",
              "..         ...                    ...  ...             ...            ...\n",
              "62  8877689391    5/6/2016 6:43:35 AM  ...           False  1462517015000\n",
              "63  8877689391    5/8/2016 7:35:53 AM  ...           False  1462692953000\n",
              "64  8877689391    5/9/2016 6:39:44 AM  ...           False  1462775984000\n",
              "65  8877689391   5/11/2016 6:51:47 AM  ...           False  1462949507000\n",
              "66  8877689391   5/12/2016 6:42:53 AM  ...           False  1463035373000\n",
              "\n",
              "[67 rows x 8 columns]"
            ]
          },
          "metadata": {},
          "execution_count": 9
        }
      ]
    },
    {
      "cell_type": "code",
      "metadata": {
        "colab": {
          "base_uri": "https://localhost:8080/"
        },
        "id": "mR_iQtYToV-4",
        "outputId": "bf202535-3ccb-4d53-9575-ac82f12f77bd"
      },
      "source": [
        "weightLogInfo_df.info()"
      ],
      "execution_count": null,
      "outputs": [
        {
          "output_type": "stream",
          "name": "stdout",
          "text": [
            "<class 'pandas.core.frame.DataFrame'>\n",
            "RangeIndex: 67 entries, 0 to 66\n",
            "Data columns (total 8 columns):\n",
            " #   Column          Non-Null Count  Dtype  \n",
            "---  ------          --------------  -----  \n",
            " 0   Id              67 non-null     int64  \n",
            " 1   Date            67 non-null     object \n",
            " 2   WeightKg        67 non-null     float64\n",
            " 3   WeightPounds    67 non-null     float64\n",
            " 4   Fat             2 non-null      float64\n",
            " 5   BMI             67 non-null     float64\n",
            " 6   IsManualReport  67 non-null     bool   \n",
            " 7   LogId           67 non-null     int64  \n",
            "dtypes: bool(1), float64(4), int64(2), object(1)\n",
            "memory usage: 3.9+ KB\n"
          ]
        }
      ]
    },
    {
      "cell_type": "markdown",
      "metadata": {
        "id": "GBR-65xDtHrq"
      },
      "source": [
        "# Exploratory Analysis and Visualization"
      ]
    },
    {
      "cell_type": "markdown",
      "metadata": {
        "id": "R5pP8OgdBhQu"
      },
      "source": [
        "### Daily Activities Dataset\n",
        "Columns we will analyze\n",
        "\n",
        "1. Total Steps\n",
        "2. Calories\n",
        "3. TotalDistance\n",
        "4. ActivityDate\n",
        "5. SedentaryMinutes"
      ]
    },
    {
      "cell_type": "code",
      "metadata": {
        "colab": {
          "base_uri": "https://localhost:8080/"
        },
        "id": "eQHDrgoetL_f",
        "outputId": "3f29a1b7-7a29-47ae-e314-8e5b5f9c294f"
      },
      "source": [
        "dailyActivity_df['TotalSteps'].describe()"
      ],
      "execution_count": null,
      "outputs": [
        {
          "output_type": "execute_result",
          "data": {
            "text/plain": [
              "count      940.000000\n",
              "mean      7637.910638\n",
              "std       5087.150742\n",
              "min          0.000000\n",
              "25%       3789.750000\n",
              "50%       7405.500000\n",
              "75%      10727.000000\n",
              "max      36019.000000\n",
              "Name: TotalSteps, dtype: float64"
            ]
          },
          "metadata": {},
          "execution_count": 18
        }
      ]
    },
    {
      "cell_type": "code",
      "metadata": {
        "colab": {
          "base_uri": "https://localhost:8080/"
        },
        "id": "FjGBH7-ftOtZ",
        "outputId": "16759115-2dc6-4669-88cc-60810c83abf1"
      },
      "source": [
        "dailyActivity_df['Calories'].describe()"
      ],
      "execution_count": null,
      "outputs": [
        {
          "output_type": "execute_result",
          "data": {
            "text/plain": [
              "count     940.000000\n",
              "mean     2303.609574\n",
              "std       718.166862\n",
              "min         0.000000\n",
              "25%      1828.500000\n",
              "50%      2134.000000\n",
              "75%      2793.250000\n",
              "max      4900.000000\n",
              "Name: Calories, dtype: float64"
            ]
          },
          "metadata": {},
          "execution_count": 19
        }
      ]
    },
    {
      "cell_type": "code",
      "metadata": {
        "colab": {
          "base_uri": "https://localhost:8080/",
          "height": 296
        },
        "id": "vhZgX-W9tOo5",
        "outputId": "bfbc632c-d7c3-4fe9-9be6-43870853db72"
      },
      "source": [
        "sns.lineplot(x='TotalSteps',y='Calories',data=dailyActivity_df)"
      ],
      "execution_count": null,
      "outputs": [
        {
          "output_type": "execute_result",
          "data": {
            "text/plain": [
              "<matplotlib.axes._subplots.AxesSubplot at 0x7f05265cf710>"
            ]
          },
          "metadata": {},
          "execution_count": 21
        },
        {
          "output_type": "display_data",
          "data": {
            "image/png": "[encoded data removed]",
            "text/plain": [
              "<Figure size 432x288 with 1 Axes>"
            ]
          },
          "metadata": {}
        }
      ]
    },
    {
      "cell_type": "code",
      "metadata": {
        "colab": {
          "base_uri": "https://localhost:8080/",
          "height": 296
        },
        "id": "s__nKrIb4x3F",
        "outputId": "e01d3f09-25d5-45cd-9153-9e965d85e4e2"
      },
      "source": [
        "sns.lineplot(x='TotalDistance',y='Calories',data=dailyActivity_df)"
      ],
      "execution_count": null,
      "outputs": [
        {
          "output_type": "execute_result",
          "data": {
            "text/plain": [
              "<matplotlib.axes._subplots.AxesSubplot at 0x7f051e1ccb50>"
            ]
          },
          "metadata": {},
          "execution_count": 36
        },
        {
          "output_type": "display_data",
          "data": {
            "image/png": "[encoded data removed]",
            "text/plain": [
              "<Figure size 432x288 with 1 Axes>"
            ]
          },
          "metadata": {}
        }
      ]
    },
    {
      "cell_type": "code",
      "metadata": {
        "colab": {
          "base_uri": "https://localhost:8080/"
        },
        "id": "rLpp0D426N6i",
        "outputId": "d1f2e47d-8254-47b9-cd2a-1026a6c0c630"
      },
      "source": [
        "dailyActivity_df.columns"
      ],
      "execution_count": null,
      "outputs": [
        {
          "output_type": "execute_result",
          "data": {
            "text/plain": [
              "Index(['Id', 'ActivityDate', 'TotalSteps', 'TotalDistance', 'TrackerDistance',\n",
              "       'LoggedActivitiesDistance', 'VeryActiveDistance',\n",
              "       'ModeratelyActiveDistance', 'LightActiveDistance',\n",
              "       'SedentaryActiveDistance', 'VeryActiveMinutes', 'FairlyActiveMinutes',\n",
              "       'LightlyActiveMinutes', 'SedentaryMinutes', 'Calories'],\n",
              "      dtype='object')"
            ]
          },
          "metadata": {},
          "execution_count": 23
        }
      ]
    },
    {
      "cell_type": "code",
      "metadata": {
        "colab": {
          "base_uri": "https://localhost:8080/",
          "height": 35
        },
        "id": "0ul-nbfB7ewH",
        "outputId": "974b11be-327a-4b9e-c482-fb5717379dd6"
      },
      "source": [
        "dailyActivity_df.ActivityDate[0]"
      ],
      "execution_count": null,
      "outputs": [
        {
          "output_type": "execute_result",
          "data": {
            "application/vnd.google.colaboratory.intrinsic+json": {
              "type": "string"
            },
            "text/plain": [
              "'4/12/2016'"
            ]
          },
          "metadata": {},
          "execution_count": 24
        }
      ]
    },
    {
      "cell_type": "code",
      "metadata": {
        "id": "Y9Tfokzz7eso"
      },
      "source": [
        "dailyActivity_df.ActivityDate = pd.to_datetime(dailyActivity_df.ActivityDate)"
      ],
      "execution_count": null,
      "outputs": []
    },
    {
      "cell_type": "code",
      "metadata": {
        "colab": {
          "base_uri": "https://localhost:8080/"
        },
        "id": "3NefXNif7epi",
        "outputId": "47ef897e-0daf-4bb8-f991-9d7782938f85"
      },
      "source": [
        "dailyActivity_df.ActivityDate[0]"
      ],
      "execution_count": null,
      "outputs": [
        {
          "output_type": "execute_result",
          "data": {
            "text/plain": [
              "Timestamp('2016-04-12 00:00:00')"
            ]
          },
          "metadata": {},
          "execution_count": 26
        }
      ]
    },
    {
      "cell_type": "code",
      "metadata": {
        "colab": {
          "base_uri": "https://localhost:8080/",
          "height": 296
        },
        "id": "SAaBj2kE7emQ",
        "outputId": "e8c6d20c-75b3-454f-a3bc-43d433250910"
      },
      "source": [
        "sns.histplot(dailyActivity_df.ActivityDate.dt.dayofweek,bins=7,kde=False)"
      ],
      "execution_count": null,
      "outputs": [
        {
          "output_type": "execute_result",
          "data": {
            "text/plain": [
              "<matplotlib.axes._subplots.AxesSubplot at 0x7f051e9eaa10>"
            ]
          },
          "metadata": {},
          "execution_count": 32
        },
        {
          "output_type": "display_data",
          "data": {
            "image/png": "[encoded data removed]",
            "text/plain": [
              "<Figure size 432x288 with 1 Axes>"
            ]
          },
          "metadata": {}
        }
      ]
    },
    {
      "cell_type": "code",
      "metadata": {
        "id": "YU7c969PoCmj"
      },
      "source": [
        "# Day with maximum steps\n",
        "\n",
        "dailyActivity_df['days'] = dailyActivity_df.ActivityDate.dt.dayofweek"
      ],
      "execution_count": null,
      "outputs": []
    },
    {
      "cell_type": "code",
      "metadata": {
        "id": "koCKugIPu8mU",
        "colab": {
          "base_uri": "https://localhost:8080/"
        },
        "outputId": "e3600439-433d-4d4f-936c-6a216613c045"
      },
      "source": [
        "dailyActivity_df.rename(columns={'dailyAcitivity_days': 'dailyActivity_days'}, inplace=True)"
      ],
      "execution_count": null,
      "outputs": [
        {
          "output_type": "stream",
          "name": "stderr",
          "text": [
            "/usr/local/lib/python3.7/dist-packages/pandas/core/frame.py:4308: SettingWithCopyWarning: \n",
            "A value is trying to be set on a copy of a slice from a DataFrame\n",
            "\n",
            "See the caveats in the documentation: https://pandas.pydata.org/pandas-docs/stable/user_guide/indexing.html#returning-a-view-versus-a-copy\n",
            "  errors=errors,\n"
          ]
        }
      ]
    },
    {
      "cell_type": "code",
      "metadata": {
        "colab": {
          "base_uri": "https://localhost:8080/",
          "height": 439
        },
        "id": "kJQJjhUYz5oS",
        "outputId": "5e04bf84-add8-4ceb-bbaf-3f3e42a7466e"
      },
      "source": [
        "dailyActivity_df"
      ],
      "execution_count": null,
      "outputs": [
        {
          "output_type": "execute_result",
          "data": {
            "text/html": [
              "<div>\n",
              "<style scoped>\n",
              "    .dataframe tbody tr th:only-of-type {\n",
              "        vertical-align: middle;\n",
              "    }\n",
              "\n",
              "    .dataframe tbody tr th {\n",
              "        vertical-align: top;\n",
              "    }\n",
              "\n",
              "    .dataframe thead th {\n",
              "        text-align: right;\n",
              "    }\n",
              "</style>\n",
              "<table border=\"1\" class=\"dataframe\">\n",
              "  <thead>\n",
              "    <tr style=\"text-align: right;\">\n",
              "      <th></th>\n",
              "      <th>Id</th>\n",
              "      <th>ActivityDate</th>\n",
              "      <th>TotalSteps</th>\n",
              "      <th>TotalDistance</th>\n",
              "      <th>TrackerDistance</th>\n",
              "      <th>LoggedActivitiesDistance</th>\n",
              "      <th>VeryActiveDistance</th>\n",
              "      <th>ModeratelyActiveDistance</th>\n",
              "      <th>LightActiveDistance</th>\n",
              "      <th>SedentaryActiveDistance</th>\n",
              "      <th>VeryActiveMinutes</th>\n",
              "      <th>FairlyActiveMinutes</th>\n",
              "      <th>LightlyActiveMinutes</th>\n",
              "      <th>SedentaryMinutes</th>\n",
              "      <th>Calories</th>\n",
              "      <th>dailyActivity_days</th>\n",
              "    </tr>\n",
              "  </thead>\n",
              "  <tbody>\n",
              "    <tr>\n",
              "      <th>0</th>\n",
              "      <td>1503960366</td>\n",
              "      <td>2016-04-12</td>\n",
              "      <td>13162</td>\n",
              "      <td>8.500000</td>\n",
              "      <td>8.500000</td>\n",
              "      <td>0.0</td>\n",
              "      <td>1.88</td>\n",
              "      <td>0.55</td>\n",
              "      <td>6.06</td>\n",
              "      <td>0.00</td>\n",
              "      <td>25</td>\n",
              "      <td>13</td>\n",
              "      <td>328</td>\n",
              "      <td>728</td>\n",
              "      <td>1985</td>\n",
              "      <td>1</td>\n",
              "    </tr>\n",
              "    <tr>\n",
              "      <th>1</th>\n",
              "      <td>1503960366</td>\n",
              "      <td>2016-04-13</td>\n",
              "      <td>10735</td>\n",
              "      <td>6.970000</td>\n",
              "      <td>6.970000</td>\n",
              "      <td>0.0</td>\n",
              "      <td>1.57</td>\n",
              "      <td>0.69</td>\n",
              "      <td>4.71</td>\n",
              "      <td>0.00</td>\n",
              "      <td>21</td>\n",
              "      <td>19</td>\n",
              "      <td>217</td>\n",
              "      <td>776</td>\n",
              "      <td>1797</td>\n",
              "      <td>2</td>\n",
              "    </tr>\n",
              "    <tr>\n",
              "      <th>2</th>\n",
              "      <td>1503960366</td>\n",
              "      <td>2016-04-14</td>\n",
              "      <td>10460</td>\n",
              "      <td>6.740000</td>\n",
              "      <td>6.740000</td>\n",
              "      <td>0.0</td>\n",
              "      <td>2.44</td>\n",
              "      <td>0.40</td>\n",
              "      <td>3.91</td>\n",
              "      <td>0.00</td>\n",
              "      <td>30</td>\n",
              "      <td>11</td>\n",
              "      <td>181</td>\n",
              "      <td>1218</td>\n",
              "      <td>1776</td>\n",
              "      <td>3</td>\n",
              "    </tr>\n",
              "    <tr>\n",
              "      <th>3</th>\n",
              "      <td>1503960366</td>\n",
              "      <td>2016-04-15</td>\n",
              "      <td>9762</td>\n",
              "      <td>6.280000</td>\n",
              "      <td>6.280000</td>\n",
              "      <td>0.0</td>\n",
              "      <td>2.14</td>\n",
              "      <td>1.26</td>\n",
              "      <td>2.83</td>\n",
              "      <td>0.00</td>\n",
              "      <td>29</td>\n",
              "      <td>34</td>\n",
              "      <td>209</td>\n",
              "      <td>726</td>\n",
              "      <td>1745</td>\n",
              "      <td>4</td>\n",
              "    </tr>\n",
              "    <tr>\n",
              "      <th>4</th>\n",
              "      <td>1503960366</td>\n",
              "      <td>2016-04-16</td>\n",
              "      <td>12669</td>\n",
              "      <td>8.160000</td>\n",
              "      <td>8.160000</td>\n",
              "      <td>0.0</td>\n",
              "      <td>2.71</td>\n",
              "      <td>0.41</td>\n",
              "      <td>5.04</td>\n",
              "      <td>0.00</td>\n",
              "      <td>36</td>\n",
              "      <td>10</td>\n",
              "      <td>221</td>\n",
              "      <td>773</td>\n",
              "      <td>1863</td>\n",
              "      <td>5</td>\n",
              "    </tr>\n",
              "    <tr>\n",
              "      <th>...</th>\n",
              "      <td>...</td>\n",
              "      <td>...</td>\n",
              "      <td>...</td>\n",
              "      <td>...</td>\n",
              "      <td>...</td>\n",
              "      <td>...</td>\n",
              "      <td>...</td>\n",
              "      <td>...</td>\n",
              "      <td>...</td>\n",
              "      <td>...</td>\n",
              "      <td>...</td>\n",
              "      <td>...</td>\n",
              "      <td>...</td>\n",
              "      <td>...</td>\n",
              "      <td>...</td>\n",
              "      <td>...</td>\n",
              "    </tr>\n",
              "    <tr>\n",
              "      <th>935</th>\n",
              "      <td>8877689391</td>\n",
              "      <td>2016-05-08</td>\n",
              "      <td>10686</td>\n",
              "      <td>8.110000</td>\n",
              "      <td>8.110000</td>\n",
              "      <td>0.0</td>\n",
              "      <td>1.08</td>\n",
              "      <td>0.20</td>\n",
              "      <td>6.80</td>\n",
              "      <td>0.00</td>\n",
              "      <td>17</td>\n",
              "      <td>4</td>\n",
              "      <td>245</td>\n",
              "      <td>1174</td>\n",
              "      <td>2847</td>\n",
              "      <td>6</td>\n",
              "    </tr>\n",
              "    <tr>\n",
              "      <th>936</th>\n",
              "      <td>8877689391</td>\n",
              "      <td>2016-05-09</td>\n",
              "      <td>20226</td>\n",
              "      <td>18.250000</td>\n",
              "      <td>18.250000</td>\n",
              "      <td>0.0</td>\n",
              "      <td>11.10</td>\n",
              "      <td>0.80</td>\n",
              "      <td>6.24</td>\n",
              "      <td>0.05</td>\n",
              "      <td>73</td>\n",
              "      <td>19</td>\n",
              "      <td>217</td>\n",
              "      <td>1131</td>\n",
              "      <td>3710</td>\n",
              "      <td>0</td>\n",
              "    </tr>\n",
              "    <tr>\n",
              "      <th>937</th>\n",
              "      <td>8877689391</td>\n",
              "      <td>2016-05-10</td>\n",
              "      <td>10733</td>\n",
              "      <td>8.150000</td>\n",
              "      <td>8.150000</td>\n",
              "      <td>0.0</td>\n",
              "      <td>1.35</td>\n",
              "      <td>0.46</td>\n",
              "      <td>6.28</td>\n",
              "      <td>0.00</td>\n",
              "      <td>18</td>\n",
              "      <td>11</td>\n",
              "      <td>224</td>\n",
              "      <td>1187</td>\n",
              "      <td>2832</td>\n",
              "      <td>1</td>\n",
              "    </tr>\n",
              "    <tr>\n",
              "      <th>938</th>\n",
              "      <td>8877689391</td>\n",
              "      <td>2016-05-11</td>\n",
              "      <td>21420</td>\n",
              "      <td>19.559999</td>\n",
              "      <td>19.559999</td>\n",
              "      <td>0.0</td>\n",
              "      <td>13.22</td>\n",
              "      <td>0.41</td>\n",
              "      <td>5.89</td>\n",
              "      <td>0.00</td>\n",
              "      <td>88</td>\n",
              "      <td>12</td>\n",
              "      <td>213</td>\n",
              "      <td>1127</td>\n",
              "      <td>3832</td>\n",
              "      <td>2</td>\n",
              "    </tr>\n",
              "    <tr>\n",
              "      <th>939</th>\n",
              "      <td>8877689391</td>\n",
              "      <td>2016-05-12</td>\n",
              "      <td>8064</td>\n",
              "      <td>6.120000</td>\n",
              "      <td>6.120000</td>\n",
              "      <td>0.0</td>\n",
              "      <td>1.82</td>\n",
              "      <td>0.04</td>\n",
              "      <td>4.25</td>\n",
              "      <td>0.00</td>\n",
              "      <td>23</td>\n",
              "      <td>1</td>\n",
              "      <td>137</td>\n",
              "      <td>770</td>\n",
              "      <td>1849</td>\n",
              "      <td>3</td>\n",
              "    </tr>\n",
              "  </tbody>\n",
              "</table>\n",
              "<p>940 rows × 16 columns</p>\n",
              "</div>"
            ],
            "text/plain": [
              "             Id ActivityDate  ...  Calories  dailyActivity_days\n",
              "0    1503960366   2016-04-12  ...      1985                   1\n",
              "1    1503960366   2016-04-13  ...      1797                   2\n",
              "2    1503960366   2016-04-14  ...      1776                   3\n",
              "3    1503960366   2016-04-15  ...      1745                   4\n",
              "4    1503960366   2016-04-16  ...      1863                   5\n",
              "..          ...          ...  ...       ...                 ...\n",
              "935  8877689391   2016-05-08  ...      2847                   6\n",
              "936  8877689391   2016-05-09  ...      3710                   0\n",
              "937  8877689391   2016-05-10  ...      2832                   1\n",
              "938  8877689391   2016-05-11  ...      3832                   2\n",
              "939  8877689391   2016-05-12  ...      1849                   3\n",
              "\n",
              "[940 rows x 16 columns]"
            ]
          },
          "metadata": {},
          "execution_count": 237
        }
      ]
    },
    {
      "cell_type": "code",
      "metadata": {
        "colab": {
          "base_uri": "https://localhost:8080/",
          "height": 294
        },
        "id": "7j3KNQ1xn6m8",
        "outputId": "5afe7d9b-a6f8-4086-b61c-9fd44e91035e"
      },
      "source": [
        "dailyActivity_df[['dailyActivity_days','TotalSteps']].groupby('dailyActivity_days').mean().plot(kind='bar',legend=False)"
      ],
      "execution_count": null,
      "outputs": [
        {
          "output_type": "execute_result",
          "data": {
            "text/plain": [
              "<matplotlib.axes._subplots.AxesSubplot at 0x7f03974164d0>"
            ]
          },
          "metadata": {},
          "execution_count": 161
        },
        {
          "output_type": "display_data",
          "data": {
            "image/png": "[encoded data removed]",
            "text/plain": [
              "<Figure size 432x288 with 1 Axes>"
            ]
          },
          "metadata": {}
        }
      ]
    },
    {
      "cell_type": "code",
      "metadata": {
        "colab": {
          "base_uri": "https://localhost:8080/",
          "height": 296
        },
        "id": "nVkXwa4R8fKx",
        "outputId": "adba2669-75ba-4128-b4be-9cfafda3ce07"
      },
      "source": [
        "sns.histplot(dailyActivity_df.ActivityDate.dt.month,bins=12,kde=False)"
      ],
      "execution_count": null,
      "outputs": [
        {
          "output_type": "execute_result",
          "data": {
            "text/plain": [
              "<matplotlib.axes._subplots.AxesSubplot at 0x7f051e361050>"
            ]
          },
          "metadata": {},
          "execution_count": 34
        },
        {
          "output_type": "display_data",
          "data": {
            "image/png": "[encoded data removed]",
            "text/plain": [
              "<Figure size 432x288 with 1 Axes>"
            ]
          },
          "metadata": {}
        }
      ]
    },
    {
      "cell_type": "code",
      "metadata": {
        "colab": {
          "base_uri": "https://localhost:8080/",
          "height": 386
        },
        "id": "m0eEWR2xZOqn",
        "outputId": "b3d7c463-6400-4fd6-d432-8ea6bbeb977b"
      },
      "source": [
        "sns.lmplot(x='TotalSteps',y='SedentaryMinutes',data=dailyActivity_df,ci=None,line_kws={'color':'red'})"
      ],
      "execution_count": null,
      "outputs": [
        {
          "output_type": "execute_result",
          "data": {
            "text/plain": [
              "<seaborn.axisgrid.FacetGrid at 0x7f0515550cd0>"
            ]
          },
          "metadata": {},
          "execution_count": 49
        },
        {
          "output_type": "display_data",
          "data": {
            "image/png": "[encoded data removed]",
            "text/plain": [
              "<Figure size 360x360 with 1 Axes>"
            ]
          },
          "metadata": {}
        }
      ]
    },
    {
      "cell_type": "markdown",
      "metadata": {
        "id": "jaW0sqWIKAy9"
      },
      "source": [
        "**Insights**\n",
        "\n",
        "- Average steps taken per day are 7637 in dataset.\n",
        "\n",
        "- Average calories burned per day is 2303.\n",
        "\n",
        "- The data recorded by tracker was maximum on Mon, Tues and Wed and in the month of April.\n",
        "\n",
        "- People took maximum steps on Mon and Fri.\n",
        "\n",
        "- Increase in steps taken decreases the sedentary minutes.\n"
      ]
    },
    {
      "cell_type": "markdown",
      "metadata": {
        "id": "vI4B_uqIL_4B"
      },
      "source": [
        "### Sleep Day Dataset\n",
        "\n",
        "Columns we will analyze\n",
        "\n",
        "1. TotalMinutesAsleep\n",
        "2. TotalTimeInBed\n",
        "3. SleepDay"
      ]
    },
    {
      "cell_type": "code",
      "metadata": {
        "colab": {
          "base_uri": "https://localhost:8080/",
          "height": 386
        },
        "id": "Zk799esEMrPP",
        "outputId": "1a4a971e-4986-4d76-a5e5-6f9a89a24fcb"
      },
      "source": [
        "sns.lmplot(x='TotalMinutesAsleep',y='TotalTimeInBed',data=sleepDay_df,ci=None,line_kws={'color':'orange'})\n"
      ],
      "execution_count": null,
      "outputs": [
        {
          "output_type": "execute_result",
          "data": {
            "text/plain": [
              "<seaborn.axisgrid.FacetGrid at 0x7f05153b8210>"
            ]
          },
          "metadata": {},
          "execution_count": 53
        },
        {
          "output_type": "display_data",
          "data": {
            "image/png": "[encoded data removed]",
            "text/plain": [
              "<Figure size 360x360 with 1 Axes>"
            ]
          },
          "metadata": {}
        }
      ]
    },
    {
      "cell_type": "code",
      "metadata": {
        "id": "5bwkvcICrCyU",
        "colab": {
          "base_uri": "https://localhost:8080/"
        },
        "outputId": "e5f521f5-6572-44c6-e910-c6122b74e848"
      },
      "source": [
        "sleepDay_df['TotalTimeInBed'].describe()"
      ],
      "execution_count": null,
      "outputs": [
        {
          "output_type": "execute_result",
          "data": {
            "text/plain": [
              "count    413.000000\n",
              "mean     458.639225\n",
              "std      127.101607\n",
              "min       61.000000\n",
              "25%      403.000000\n",
              "50%      463.000000\n",
              "75%      526.000000\n",
              "max      961.000000\n",
              "Name: TotalTimeInBed, dtype: float64"
            ]
          },
          "metadata": {},
          "execution_count": 31
        }
      ]
    },
    {
      "cell_type": "code",
      "metadata": {
        "id": "GqsmJKHedCOI"
      },
      "source": [
        "sleepDay_df.SleepDay = pd.to_datetime(sleepDay_df.SleepDay)"
      ],
      "execution_count": null,
      "outputs": []
    },
    {
      "cell_type": "code",
      "metadata": {
        "colab": {
          "base_uri": "https://localhost:8080/"
        },
        "id": "XtNImlFLd-cb",
        "outputId": "ca412cb3-8fc2-4e78-fd13-9cc0d6235bad"
      },
      "source": [
        "sleepDay_df.SleepDay[0]"
      ],
      "execution_count": null,
      "outputs": [
        {
          "output_type": "execute_result",
          "data": {
            "text/plain": [
              "Timestamp('2016-04-12 00:00:00')"
            ]
          },
          "metadata": {},
          "execution_count": 60
        }
      ]
    },
    {
      "cell_type": "code",
      "metadata": {
        "colab": {
          "base_uri": "https://localhost:8080/",
          "height": 204
        },
        "id": "B4TiVJ_pm1xO",
        "outputId": "86c6ac98-db21-4634-8229-71f0e56a313a"
      },
      "source": [
        "sleepDay_df['day'] = sleepDay_df['SleepDay'].dt.dayofweek\n",
        "\n",
        "sleepDay_df.head()"
      ],
      "execution_count": null,
      "outputs": [
        {
          "output_type": "execute_result",
          "data": {
            "text/html": [
              "<div>\n",
              "<style scoped>\n",
              "    .dataframe tbody tr th:only-of-type {\n",
              "        vertical-align: middle;\n",
              "    }\n",
              "\n",
              "    .dataframe tbody tr th {\n",
              "        vertical-align: top;\n",
              "    }\n",
              "\n",
              "    .dataframe thead th {\n",
              "        text-align: right;\n",
              "    }\n",
              "</style>\n",
              "<table border=\"1\" class=\"dataframe\">\n",
              "  <thead>\n",
              "    <tr style=\"text-align: right;\">\n",
              "      <th></th>\n",
              "      <th>Id</th>\n",
              "      <th>SleepDay</th>\n",
              "      <th>TotalSleepRecords</th>\n",
              "      <th>TotalMinutesAsleep</th>\n",
              "      <th>TotalTimeInBed</th>\n",
              "      <th>day</th>\n",
              "    </tr>\n",
              "  </thead>\n",
              "  <tbody>\n",
              "    <tr>\n",
              "      <th>0</th>\n",
              "      <td>1503960366</td>\n",
              "      <td>2016-04-12</td>\n",
              "      <td>1</td>\n",
              "      <td>327</td>\n",
              "      <td>346</td>\n",
              "      <td>1</td>\n",
              "    </tr>\n",
              "    <tr>\n",
              "      <th>1</th>\n",
              "      <td>1503960366</td>\n",
              "      <td>2016-04-13</td>\n",
              "      <td>2</td>\n",
              "      <td>384</td>\n",
              "      <td>407</td>\n",
              "      <td>2</td>\n",
              "    </tr>\n",
              "    <tr>\n",
              "      <th>2</th>\n",
              "      <td>1503960366</td>\n",
              "      <td>2016-04-15</td>\n",
              "      <td>1</td>\n",
              "      <td>412</td>\n",
              "      <td>442</td>\n",
              "      <td>4</td>\n",
              "    </tr>\n",
              "    <tr>\n",
              "      <th>3</th>\n",
              "      <td>1503960366</td>\n",
              "      <td>2016-04-16</td>\n",
              "      <td>2</td>\n",
              "      <td>340</td>\n",
              "      <td>367</td>\n",
              "      <td>5</td>\n",
              "    </tr>\n",
              "    <tr>\n",
              "      <th>4</th>\n",
              "      <td>1503960366</td>\n",
              "      <td>2016-04-17</td>\n",
              "      <td>1</td>\n",
              "      <td>700</td>\n",
              "      <td>712</td>\n",
              "      <td>6</td>\n",
              "    </tr>\n",
              "  </tbody>\n",
              "</table>\n",
              "</div>"
            ],
            "text/plain": [
              "           Id   SleepDay  ...  TotalTimeInBed  day\n",
              "0  1503960366 2016-04-12  ...             346    1\n",
              "1  1503960366 2016-04-13  ...             407    2\n",
              "2  1503960366 2016-04-15  ...             442    4\n",
              "3  1503960366 2016-04-16  ...             367    5\n",
              "4  1503960366 2016-04-17  ...             712    6\n",
              "\n",
              "[5 rows x 6 columns]"
            ]
          },
          "metadata": {},
          "execution_count": 87
        }
      ]
    },
    {
      "cell_type": "code",
      "metadata": {
        "colab": {
          "base_uri": "https://localhost:8080/",
          "height": 293
        },
        "id": "ubuSPZUXeDLQ",
        "outputId": "1d2c3c04-3601-46fa-cde8-fd020a2d7d11"
      },
      "source": [
        "sleepDay_df[['day','TotalTimeInBed']].groupby('day').mean().plot(kind='bar')"
      ],
      "execution_count": null,
      "outputs": [
        {
          "output_type": "execute_result",
          "data": {
            "text/plain": [
              "<matplotlib.axes._subplots.AxesSubplot at 0x7f051e06d210>"
            ]
          },
          "metadata": {},
          "execution_count": 88
        },
        {
          "output_type": "display_data",
          "data": {
            "image/png": "[encoded data removed]",
            "text/plain": [
              "<Figure size 432x288 with 1 Axes>"
            ]
          },
          "metadata": {}
        }
      ]
    },
    {
      "cell_type": "markdown",
      "metadata": {
        "id": "dIUNNj6JhBUu"
      },
      "source": [
        "- Insights\n",
        "1. MinutesAsleep and Time in bed are linearly dependent.\n",
        "2. Average sleeping time of a person is ~8 hrs (458 mins)\n",
        "3. People sleep more on Tues and Sat"
      ]
    },
    {
      "cell_type": "markdown",
      "metadata": {
        "id": "YoQOGb-JkzPb"
      },
      "source": [
        "### Heartrate Seconds Dataset\n",
        "\n",
        "Columns we will analyze\n",
        "\n",
        "1. Time\n",
        "2. Value"
      ]
    },
    {
      "cell_type": "code",
      "metadata": {
        "id": "FhQYqqzyloyZ"
      },
      "source": [
        "heartrate_secs_df['days'] = heartrate_secs_df['Time'].dt.dayofweek"
      ],
      "execution_count": null,
      "outputs": []
    },
    {
      "cell_type": "code",
      "metadata": {
        "id": "Nuojg78V1RHu"
      },
      "source": [
        "heartrate_secs_df.rename(columns={'days': 'heartrate_secs_days'}, inplace=True)"
      ],
      "execution_count": null,
      "outputs": []
    },
    {
      "cell_type": "code",
      "metadata": {
        "colab": {
          "base_uri": "https://localhost:8080/",
          "height": 294
        },
        "id": "Tpg_3Slhlov9",
        "outputId": "89852688-316f-4975-9f95-a1df3ab1cc13"
      },
      "source": [
        "heartrate_secs_df[['heartrate_secs_days','Value']].groupby('heartrate_secs_days').mean().plot(kind='bar',legend=False)"
      ],
      "execution_count": null,
      "outputs": [
        {
          "output_type": "execute_result",
          "data": {
            "text/plain": [
              "<matplotlib.axes._subplots.AxesSubplot at 0x7f0397405790>"
            ]
          },
          "metadata": {},
          "execution_count": 163
        },
        {
          "output_type": "display_data",
          "data": {
            "image/png": "[encoded data removed]",
            "text/plain": [
              "<Figure size 432x288 with 1 Axes>"
            ]
          },
          "metadata": {}
        }
      ]
    },
    {
      "cell_type": "code",
      "metadata": {
        "id": "H0nuM8KiptbF"
      },
      "source": [
        "heartrate_secs_df['heartrate_secs_hour'] = heartrate_secs_df['Time'].dt.hour"
      ],
      "execution_count": null,
      "outputs": []
    },
    {
      "cell_type": "code",
      "metadata": {
        "colab": {
          "base_uri": "https://localhost:8080/",
          "height": 300
        },
        "id": "5EJlHJPEps5A",
        "outputId": "c6ed798f-578c-4284-fdf5-94a6e790b55d"
      },
      "source": [
        "heartrate_secs_df[['heartrate_secs_hour','Value']].groupby('heartrate_secs_hour').mean().plot(kind='bar',legend=False)"
      ],
      "execution_count": null,
      "outputs": [
        {
          "output_type": "execute_result",
          "data": {
            "text/plain": [
              "<matplotlib.axes._subplots.AxesSubplot at 0x7f0397167250>"
            ]
          },
          "metadata": {},
          "execution_count": 226
        },
        {
          "output_type": "display_data",
          "data": {
            "image/png": "[encoded data removed]",
            "text/plain": [
              "<Figure size 432x288 with 1 Axes>"
            ]
          },
          "metadata": {}
        }
      ]
    },
    {
      "cell_type": "markdown",
      "metadata": {
        "id": "AN5Y9fZHEbLo"
      },
      "source": [
        "**Insights**\n",
        "\n",
        "1. Average heartbeat of a person is 77.4.\n",
        "2. Heartbeats show an increase in trend between 10 a.m to 6 p.m (or 18 p.m)"
      ]
    },
    {
      "cell_type": "markdown",
      "metadata": {
        "id": "7_F7RL-QkHYA"
      },
      "source": [
        "### Minute METS Dataset\n",
        "\n",
        "Columns we will analyze\n",
        "\n",
        "1. ActivityMinute\n",
        "2. METs"
      ]
    },
    {
      "cell_type": "code",
      "metadata": {
        "id": "cy12xXBekLT3"
      },
      "source": [
        "int_METS = minute_METS_df['METs'].astype(int)"
      ],
      "execution_count": null,
      "outputs": []
    },
    {
      "cell_type": "code",
      "metadata": {
        "colab": {
          "base_uri": "https://localhost:8080/"
        },
        "id": "VtR31bSFnEdp",
        "outputId": "13398204-c8de-486c-d557-a57a3bb00949"
      },
      "source": [
        "int_METS.describe()"
      ],
      "execution_count": null,
      "outputs": [
        {
          "output_type": "execute_result",
          "data": {
            "text/plain": [
              "count    1.325580e+06\n",
              "mean     1.469001e+01\n",
              "std      1.205541e+01\n",
              "min      0.000000e+00\n",
              "25%      1.000000e+01\n",
              "50%      1.000000e+01\n",
              "75%      1.100000e+01\n",
              "max      1.570000e+02\n",
              "Name: METs, dtype: float64"
            ]
          },
          "metadata": {},
          "execution_count": 219
        }
      ]
    },
    {
      "cell_type": "code",
      "metadata": {
        "id": "gfMsq6mlkt22"
      },
      "source": [
        "minute_METS_df['minute_METS_days'] = minute_METS_df.ActivityMinute.dt.dayofweek"
      ],
      "execution_count": null,
      "outputs": []
    },
    {
      "cell_type": "code",
      "metadata": {
        "colab": {
          "base_uri": "https://localhost:8080/",
          "height": 294
        },
        "id": "6x7Q2ictktz7",
        "outputId": "7780b3ae-fbc1-4f71-b679-014aed1fc93d"
      },
      "source": [
        "minute_METS_df[['minute_METS_days','METs']].groupby('minute_METS_days').mean().plot(kind='bar',legend=False)"
      ],
      "execution_count": null,
      "outputs": [
        {
          "output_type": "execute_result",
          "data": {
            "text/plain": [
              "<matplotlib.axes._subplots.AxesSubplot at 0x7f039732d150>"
            ]
          },
          "metadata": {},
          "execution_count": 207
        },
        {
          "output_type": "display_data",
          "data": {
            "image/png": "[encoded data removed]",
            "text/plain": [
              "<Figure size 432x288 with 1 Axes>"
            ]
          },
          "metadata": {}
        }
      ]
    },
    {
      "cell_type": "code",
      "metadata": {
        "id": "U1iLijTzoAnm"
      },
      "source": [
        "minute_METS_df['minute_METS_hour'] = minute_METS_df.ActivityMinute.dt.hour"
      ],
      "execution_count": null,
      "outputs": []
    },
    {
      "cell_type": "code",
      "metadata": {
        "colab": {
          "base_uri": "https://localhost:8080/",
          "height": 300
        },
        "id": "BlmrKXxtpbY5",
        "outputId": "00cc7d2b-9a95-4f21-b953-0785e883343e"
      },
      "source": [
        "minute_METS_df[['minute_METS_hour','METs']].groupby('minute_METS_hour').mean().plot(kind='bar',legend=False)"
      ],
      "execution_count": null,
      "outputs": [
        {
          "output_type": "execute_result",
          "data": {
            "text/plain": [
              "<matplotlib.axes._subplots.AxesSubplot at 0x7f039723ac90>"
            ]
          },
          "metadata": {},
          "execution_count": 224
        },
        {
          "output_type": "display_data",
          "data": {
            "image/png": "[encoded data removed]",
            "text/plain": [
              "<Figure size 432x288 with 1 Axes>"
            ]
          },
          "metadata": {}
        }
      ]
    },
    {
      "cell_type": "markdown",
      "metadata": {
        "id": "U0ZfVbalCqi0"
      },
      "source": [
        "**Insights**\n",
        "\n",
        "1. Average MET score is 14.2.\n",
        "2. MET score was highest on Friday.\n",
        "3. MET scores show an increase in trend between 10 a.m to 6 p.m (or 18 p.m)"
      ]
    },
    {
      "cell_type": "markdown",
      "metadata": {
        "id": "U6MmzbB4EyJT"
      },
      "source": [
        "### Weight Log Info Dataset"
      ]
    },
    {
      "cell_type": "code",
      "metadata": {
        "colab": {
          "base_uri": "https://localhost:8080/"
        },
        "id": "62yovxV7Gvrb",
        "outputId": "8420515c-c7bf-46e5-f9d8-c22ba9dbe704"
      },
      "source": [
        "weightLogInfo_df['WeightKg'].describe()"
      ],
      "execution_count": null,
      "outputs": [
        {
          "output_type": "execute_result",
          "data": {
            "text/plain": [
              "count     67.000000\n",
              "mean      72.035821\n",
              "std       13.923206\n",
              "min       52.599998\n",
              "25%       61.400002\n",
              "50%       62.500000\n",
              "75%       85.049999\n",
              "max      133.500000\n",
              "Name: WeightKg, dtype: float64"
            ]
          },
          "metadata": {},
          "execution_count": 10
        }
      ]
    },
    {
      "cell_type": "code",
      "metadata": {
        "colab": {
          "base_uri": "https://localhost:8080/"
        },
        "id": "JBNZCz2dG-tL",
        "outputId": "13e99d0c-72d7-4ef9-e7c5-fdaf92f0d0db"
      },
      "source": [
        "weightLogInfo_df['BMI'].describe()"
      ],
      "execution_count": null,
      "outputs": [
        {
          "output_type": "execute_result",
          "data": {
            "text/plain": [
              "count    67.000000\n",
              "mean     25.185224\n",
              "std       3.066963\n",
              "min      21.450001\n",
              "25%      23.959999\n",
              "50%      24.389999\n",
              "75%      25.559999\n",
              "max      47.540001\n",
              "Name: BMI, dtype: float64"
            ]
          },
          "metadata": {},
          "execution_count": 11
        }
      ]
    },
    {
      "cell_type": "markdown",
      "metadata": {
        "id": "0UqfboR7HLPr"
      },
      "source": [
        "**Insights**\n",
        "\n",
        "1. Average weight of a person is 72.03(.kg)\n",
        "2. Average BMI of a person is 25.18"
      ]
    },
    {
      "cell_type": "markdown",
      "metadata": {
        "id": "MM9moNEutPig"
      },
      "source": [
        "## Ask and Answer Questions\n",
        "1. Why the calorie count falls when the steps or distance increase?\n",
        "2. Why there were less participants in the month of MAY compared to other months?"
      ]
    },
    {
      "cell_type": "markdown",
      "metadata": {
        "id": "19UKt50ytjmZ"
      },
      "source": [
        "## Summary and Conclusion"
      ]
    },
    {
      "cell_type": "markdown",
      "metadata": {
        "id": "yvD82Ee5I_pr"
      },
      "source": [
        "**Things learned from the dataset**\n",
        "\n",
        "1. More steps taken everyday results in high calorie burn.\n",
        "\n",
        "2. Sedentary minutes is inversionally proportional to steps taken and can hence result in severe diseases in the long run.\n",
        "\n",
        "3. People are more active on Monday and at the start of the weekend.\n",
        "\n",
        "4. People take a sound sleep on Weekends and least on weekdays.\n",
        "\n",
        "5. The heartbeat and METs show an upward trend between 9 a.m to 6 p.m which can be due to work stress.\n",
        "\n",
        "6. Weight and BMI of the people were found to be normal but it could have more analyzed if the sample size would have been larger.\n",
        "\n"
      ]
    },
    {
      "cell_type": "markdown",
      "metadata": {
        "id": "wOH00sKHOcG6"
      },
      "source": [
        "**Recommendation**\n",
        "\n",
        "1. Bellabeat app can have feature of daily target steps, to keep people on the track of calories burning, if people don't reach their target, they may receive reminder message for not finishing their minimum steps target.It will become  easier for people to increase their steps instead of monitoring their calories only.\n",
        "\n",
        "2. For the people who want to burn their calories faster, Bellabeat app can also monitor users' activity's intensity, which would help them in knowing when they reach out to high or medium intensities and can arrange their plan in a more flexible manner.\n",
        "\n",
        "3. Collect more weight and BMI information by providing perks to the users.\n",
        "\n",
        "4. Remind users to stand up and stretch after having sedentary time for quite a while.\n",
        "\n",
        "5. Alert users to take some short steps between their work schedule to have a healthy heart.\n",
        "\n",
        "6. Target people who have desk jobs.\n",
        "\n",
        "**Membership Recommendation**\n",
        "\n",
        "1. Have 30 day free trial for users to try out every feature.\n",
        "\n",
        "2. Offer referal discount and free months.\n",
        "\n",
        "3. Offer latest news on diet and fitness on the app."
      ]
    }
  ]
}